{
 "cells": [
  {
   "cell_type": "code",
   "execution_count": 4,
   "metadata": {},
   "outputs": [],
   "source": [
    "from nltk.stem import PorterStemmer,SnowballStemmer, WordNetLemmatizer ,LancasterStemmer"
   ]
  },
  {
   "cell_type": "code",
   "execution_count": 5,
   "metadata": {},
   "outputs": [],
   "source": [
    "ps = PorterStemmer()\n",
    "sn = SnowballStemmer(\"english\")\n",
    "lemmatizer = WordNetLemmatizer()\n",
    "ln = LancasterStemmer()"
   ]
  },
  {
   "cell_type": "code",
   "execution_count": 6,
   "metadata": {},
   "outputs": [
    {
     "name": "stdout",
     "output_type": "stream",
     "text": [
      "word:  failure Porter:  failur Lancaster:  fail Snowball:  failur Lemma:  failure\n",
      "word:  fail Porter:  fail Lancaster:  fail Snowball:  fail Lemma:  fail\n"
     ]
    }
   ],
   "source": [
    "example_words = [\"failure\", \"fail\"]\n",
    "\n",
    "\n",
    "for word in example_words:\n",
    "    print(\"word: \", word, \n",
    "          \"Porter: \", ps.stem(word),\n",
    "          \"Lancaster: \" , ln.stem(word),\n",
    "          \"Snowball: \",sn.stem(word),\"Lemma: \",\n",
    "          lemmatizer.lemmatize(word))\n",
    "    "
   ]
  },
  {
   "cell_type": "code",
   "execution_count": null,
   "metadata": {},
   "outputs": [],
   "source": []
  }
 ],
 "metadata": {
  "kernelspec": {
   "display_name": "Python 3",
   "language": "python",
   "name": "python3"
  },
  "language_info": {
   "codemirror_mode": {
    "name": "ipython",
    "version": 3
   },
   "file_extension": ".py",
   "mimetype": "text/x-python",
   "name": "python",
   "nbconvert_exporter": "python",
   "pygments_lexer": "ipython3",
   "version": "3.7.2"
  }
 },
 "nbformat": 4,
 "nbformat_minor": 2
}

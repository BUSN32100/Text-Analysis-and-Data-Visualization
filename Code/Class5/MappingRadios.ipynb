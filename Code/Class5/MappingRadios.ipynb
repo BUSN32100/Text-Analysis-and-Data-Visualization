{
 "cells": [
  {
   "cell_type": "code",
   "execution_count": 31,
   "metadata": {},
   "outputs": [],
   "source": [
    "#!pip install gmplot\n",
    "#!pip install geopy"
   ]
  },
  {
   "cell_type": "code",
   "execution_count": 1,
   "metadata": {},
   "outputs": [],
   "source": [
    "import pandas as pd"
   ]
  },
  {
   "cell_type": "code",
   "execution_count": 30,
   "metadata": {},
   "outputs": [],
   "source": [
    "import os\n",
    "os.chdir(\"/Users/ariedamuco/Dropbox (CEU Econ)/TextAnalysisCEU\")\n",
    "radios=pd.read_excel(open('Input/radios.xlsx', 'rb'),sheet_name='Sheet1')  # "
   ]
  },
  {
   "cell_type": "code",
   "execution_count": 13,
   "metadata": {},
   "outputs": [
    {
     "data": {
      "text/html": [
       "<div>\n",
       "<style scoped>\n",
       "    .dataframe tbody tr th:only-of-type {\n",
       "        vertical-align: middle;\n",
       "    }\n",
       "\n",
       "    .dataframe tbody tr th {\n",
       "        vertical-align: top;\n",
       "    }\n",
       "\n",
       "    .dataframe thead th {\n",
       "        text-align: right;\n",
       "    }\n",
       "</style>\n",
       "<table border=\"1\" class=\"dataframe\">\n",
       "  <thead>\n",
       "    <tr style=\"text-align: right;\">\n",
       "      <th></th>\n",
       "      <th>Unnamed: 0</th>\n",
       "      <th>Unnamed: 1</th>\n",
       "      <th>Unnamed: 2</th>\n",
       "      <th>Unnamed: 3</th>\n",
       "      <th>Unnamed: 4</th>\n",
       "      <th>Unnamed: 5</th>\n",
       "      <th>Unnamed: 6</th>\n",
       "      <th>Unnamed: 7</th>\n",
       "      <th>Unnamed: 8</th>\n",
       "      <th>Unnamed: 9</th>\n",
       "    </tr>\n",
       "  </thead>\n",
       "  <tbody>\n",
       "    <tr>\n",
       "      <td>0</td>\n",
       "      <td>Nome Entidade:</td>\n",
       "      <td>105 FM LIMITADA</td>\n",
       "      <td>NaN</td>\n",
       "      <td>NaN</td>\n",
       "      <td>Nome Fantasia:</td>\n",
       "      <td>NaN</td>\n",
       "      <td>NaN</td>\n",
       "      <td>NaN</td>\n",
       "      <td>NaN</td>\n",
       "      <td>NaN</td>\n",
       "    </tr>\n",
       "    <tr>\n",
       "      <td>1</td>\n",
       "      <td>CNPJ:</td>\n",
       "      <td>01742316000111</td>\n",
       "      <td>NaN</td>\n",
       "      <td>NaN</td>\n",
       "      <td>No Fistel:</td>\n",
       "      <td>13030093077</td>\n",
       "      <td>Classe:</td>\n",
       "      <td>C</td>\n",
       "      <td>No Estacao:</td>\n",
       "      <td>323035043</td>\n",
       "    </tr>\n",
       "    <tr>\n",
       "      <td>2</td>\n",
       "      <td>End. Entidade:</td>\n",
       "      <td>AVENIDA C 255, QD. 588</td>\n",
       "      <td>NaN</td>\n",
       "      <td>NaN</td>\n",
       "      <td>Cidade:</td>\n",
       "      <td>Goiania</td>\n",
       "      <td>UF:</td>\n",
       "      <td>GO</td>\n",
       "      <td>CEP:</td>\n",
       "      <td>74280010</td>\n",
       "    </tr>\n",
       "    <tr>\n",
       "      <td>3</td>\n",
       "      <td>End. Corr.:</td>\n",
       "      <td>AVENIDA C 255, QD.588,</td>\n",
       "      <td>NaN</td>\n",
       "      <td>NaN</td>\n",
       "      <td>Cidade:</td>\n",
       "      <td>Goiania</td>\n",
       "      <td>UF:</td>\n",
       "      <td>GO</td>\n",
       "      <td>CEP:</td>\n",
       "      <td>74280010</td>\n",
       "    </tr>\n",
       "    <tr>\n",
       "      <td>4</td>\n",
       "      <td>End. Estacao:</td>\n",
       "      <td>RODOVIA GO 070 KM 2;5, s/n</td>\n",
       "      <td>NaN</td>\n",
       "      <td>NaN</td>\n",
       "      <td>Cidade:</td>\n",
       "      <td>Inhumas</td>\n",
       "      <td>UF:</td>\n",
       "      <td>GO</td>\n",
       "      <td>CEP:</td>\n",
       "      <td>75400000</td>\n",
       "    </tr>\n",
       "    <tr>\n",
       "      <td>5</td>\n",
       "      <td>Latitude:</td>\n",
       "      <td>16S230600</td>\n",
       "      <td>Longitude:</td>\n",
       "      <td>49W303600</td>\n",
       "      <td>Frequencia:</td>\n",
       "      <td>105,3 MHz</td>\n",
       "      <td>Prefixo:</td>\n",
       "      <td>ZYC563</td>\n",
       "      <td>Potencia:</td>\n",
       "      <td>22.000 kW</td>\n",
       "    </tr>\n",
       "    <tr>\n",
       "      <td>6</td>\n",
       "      <td>NaN</td>\n",
       "      <td>NaN</td>\n",
       "      <td>NaN</td>\n",
       "      <td>NaN</td>\n",
       "      <td>NaN</td>\n",
       "      <td>NaN</td>\n",
       "      <td>NaN</td>\n",
       "      <td>NaN</td>\n",
       "      <td>NaN</td>\n",
       "      <td>NaN</td>\n",
       "    </tr>\n",
       "    <tr>\n",
       "      <td>7</td>\n",
       "      <td>Nome Entidade:</td>\n",
       "      <td>90 FM STEREO LTDA - ME</td>\n",
       "      <td>NaN</td>\n",
       "      <td>NaN</td>\n",
       "      <td>Nome Fantasia:</td>\n",
       "      <td>NaN</td>\n",
       "      <td>NaN</td>\n",
       "      <td>NaN</td>\n",
       "      <td>NaN</td>\n",
       "      <td>NaN</td>\n",
       "    </tr>\n",
       "    <tr>\n",
       "      <td>8</td>\n",
       "      <td>CNPJ:</td>\n",
       "      <td>61726055000178</td>\n",
       "      <td>NaN</td>\n",
       "      <td>NaN</td>\n",
       "      <td>No Fistel:</td>\n",
       "      <td>02031970623</td>\n",
       "      <td>Classe:</td>\n",
       "      <td>B1</td>\n",
       "      <td>No Estacao:</td>\n",
       "      <td>9236147</td>\n",
       "    </tr>\n",
       "    <tr>\n",
       "      <td>9</td>\n",
       "      <td>End. Entidade:</td>\n",
       "      <td>Rua General Osorio, 514 B</td>\n",
       "      <td>NaN</td>\n",
       "      <td>NaN</td>\n",
       "      <td>Cidade:</td>\n",
       "      <td>Pirassununga</td>\n",
       "      <td>UF:</td>\n",
       "      <td>SP</td>\n",
       "      <td>CEP:</td>\n",
       "      <td>13630020</td>\n",
       "    </tr>\n",
       "  </tbody>\n",
       "</table>\n",
       "</div>"
      ],
      "text/plain": [
       "       Unnamed: 0                   Unnamed: 1  Unnamed: 2  Unnamed: 3  \\\n",
       "0  Nome Entidade:              105 FM LIMITADA         NaN         NaN   \n",
       "1           CNPJ:               01742316000111         NaN         NaN   \n",
       "2  End. Entidade:       AVENIDA C 255, QD. 588         NaN         NaN   \n",
       "3     End. Corr.:       AVENIDA C 255, QD.588,         NaN         NaN   \n",
       "4   End. Estacao:   RODOVIA GO 070 KM 2;5, s/n         NaN         NaN   \n",
       "5       Latitude:                    16S230600  Longitude:   49W303600   \n",
       "6             NaN                          NaN         NaN         NaN   \n",
       "7  Nome Entidade:       90 FM STEREO LTDA - ME         NaN         NaN   \n",
       "8           CNPJ:               61726055000178         NaN         NaN   \n",
       "9  End. Entidade:    Rua General Osorio, 514 B         NaN         NaN   \n",
       "\n",
       "       Unnamed: 4     Unnamed: 5 Unnamed: 6 Unnamed: 7   Unnamed: 8  \\\n",
       "0  Nome Fantasia:            NaN        NaN        NaN          NaN   \n",
       "1      No Fistel:    13030093077    Classe:          C  No Estacao:   \n",
       "2         Cidade:        Goiania        UF:         GO         CEP:   \n",
       "3         Cidade:        Goiania        UF:         GO         CEP:   \n",
       "4         Cidade:        Inhumas        UF:         GO         CEP:   \n",
       "5     Frequencia:      105,3 MHz   Prefixo:     ZYC563    Potencia:   \n",
       "6             NaN            NaN        NaN        NaN          NaN   \n",
       "7  Nome Fantasia:            NaN        NaN        NaN          NaN   \n",
       "8      No Fistel:    02031970623    Classe:         B1  No Estacao:   \n",
       "9         Cidade:   Pirassununga        UF:         SP         CEP:   \n",
       "\n",
       "   Unnamed: 9  \n",
       "0         NaN  \n",
       "1   323035043  \n",
       "2    74280010  \n",
       "3    74280010  \n",
       "4    75400000  \n",
       "5   22.000 kW  \n",
       "6         NaN  \n",
       "7         NaN  \n",
       "8     9236147  \n",
       "9    13630020  "
      ]
     },
     "execution_count": 13,
     "metadata": {},
     "output_type": "execute_result"
    }
   ],
   "source": [
    "radios.head(10)"
   ]
  },
  {
   "cell_type": "code",
   "execution_count": 17,
   "metadata": {},
   "outputs": [],
   "source": [
    "radiosSP=radios[radios[\"Unnamed: 7\"].apply(lambda x: str(x).strip())==\"SP\"]"
   ]
  },
  {
   "cell_type": "code",
   "execution_count": 19,
   "metadata": {},
   "outputs": [],
   "source": [
    "full_address=radiosSP[\"Unnamed: 1\"]+radiosSP[\"Unnamed: 5\"]+radiosSP[\"Unnamed: 7\"]\n",
    "full_address=full_address.dropna()"
   ]
  },
  {
   "cell_type": "code",
   "execution_count": 20,
   "metadata": {},
   "outputs": [
    {
     "data": {
      "text/plain": [
       "9                Rua General Osorio, 514 B Pirassununga SP\n",
       "10                 RUA GENERAL OSORIO, 514 Pirassununga SP\n",
       "11                  MORRO DO LIMOEIRO, S/N Pirassununga SP\n",
       "16                     AVENIDA JOAO LEMOS, 578-F Bariri SP\n",
       "17                    AVENIDA JOAO LEMOS, 578-F, Bariri SP\n",
       "                               ...                        \n",
       "18420                    RUA VERGUEIRO, 3185, Sao Paulo SP\n",
       "18421     RODOVIA DOS IMIGRANTES KM 43;5, S/N Sao Berna...\n",
       "18559     RODOVIA PITANGUEIRAS A VIRADOURO - KM 1,5, S/...\n",
       "18560     RODOVIA PITANGUEIRAS A VIRADOURO - KM 1,5, S/...\n",
       "18561     Estrada Municipal Pitangueiras a Viradouro, s...\n",
       "Length: 1308, dtype: object"
      ]
     },
     "execution_count": 20,
     "metadata": {},
     "output_type": "execute_result"
    }
   ],
   "source": [
    "full_address"
   ]
  },
  {
   "cell_type": "code",
   "execution_count": 21,
   "metadata": {},
   "outputs": [],
   "source": [
    "full_address=full_address.tolist()\n",
    "clean_address_SP=[]\n",
    "for element in full_address:\n",
    "    if not element.strip()[0].isdecimal():\n",
    "        clean_address_SP.append(element.strip())"
   ]
  },
  {
   "cell_type": "code",
   "execution_count": 22,
   "metadata": {},
   "outputs": [],
   "source": [
    "clean_address=[element for element in clean_address_SP if \"SP\" in element]   \n",
    "clean_address=list(set(clean_address))"
   ]
  },
  {
   "cell_type": "code",
   "execution_count": 23,
   "metadata": {},
   "outputs": [],
   "source": [
    "from geopy.geocoders import Nominatim\n",
    "geolocator = Nominatim(user_agent=\"CEU Mapping\")"
   ]
  },
  {
   "cell_type": "code",
   "execution_count": 24,
   "metadata": {},
   "outputs": [
    {
     "name": "stdout",
     "output_type": "stream",
     "text": [
      "PROX POSTO POLICIA ROD FEDERAL ROD BR 459, s/n Piquete SP\n",
      "AV. JOSE CUPERTINO BOTTO, 185, . Monte Alto SP\n",
      "RUA PADRE RAMON ORTIZ, 896 Taubate SP\n",
      "MORRO ALTO FAZENDA MORRO ALTO, . Araras SP\n",
      "RUA ANTONIO GOTARDO BERNARDES, 233 Brodowski SP\n",
      "RUA DEPUTADO DANTE DELMANTO, 3709, . Botucatu SP\n",
      "CHACARA ANGELICA ESTRADA VICINAL DRACENA, S/No Junqueiropolis SP\n",
      "AV. DANTE DELMANTO, 2953- VILA PAULISTA, . Botucatu SP\n",
      "MORRO DA TV, . Rio Claro SP\n",
      "AV. PROF. GENTIL DE CAMARGO, 22, . Taubate SP\n",
      "AVENIDA DOIS, 1420 - JARDIM CLARET, . Rio Claro SP\n",
      "RODOVIA BR 050 SAIDA PARA RIBERAO PRETO KM 2, S/N Cravinhos SP\n",
      "RUA VALDECIR JOSE VASQUES, 284, . Cordeiropolis SP\n",
      "AV. ARMANDO SALLES OLIVEIRA, 201 - PARQUE UNIVERSITARIO, . Franca SP\n",
      "RUA MARECHAL DEODORO, 1933 - BAIRRO ALTO, . Piracicaba SP\n",
      "ROD SP 457 KM 98,5, . Bastos SP\n",
      "Rua Coronel Arthur Whitaker, 831 Descalvado SP\n",
      "QUADRA 15, LOTES 15/16, . Mairipora SP\n",
      "ESTRADA MUNICIPAL SITIO SANTA RITA, S/N Salesopolis SP\n",
      "Avenida Doutor Armando Salles Oliveira, 201 Franca SP\n",
      "RUA ARARIBA, . Limeira SP\n",
      "SERRA DE ARACOIABA - PICO DO IPERO, S/N Ipero SP\n",
      "Avenida Ernesto Buchi, 618 Guariba SP\n",
      "ACESSO AO PICO DO DIAMANTE, s/n Pindamonhangaba SP\n",
      "AV. DR. ADEMAR DE BARROS, 134, . Olimpia SP\n",
      "LOCAL NAO ARRUADO, S/N Limeira SP\n",
      "AVENIDA MOACIR DIAS DE MORAIS, 2156 Batatais SP\n",
      "AVENIDA MARECAHAL RONDON, 120 Taubate SP\n",
      "RUA PEDRO PIGNATTI, 142 Igarapava SP\n",
      "RODOVIA PITANGUEIRAS A VIRADOURO - KM 1,5, S/N Pitangueiras SP\n",
      "RUA PRESIDENTE JOAO PESSOA, 116 Ituverava SP\n",
      "PRACA JOEL WALDO DAL MORO, 1 Barretos SP\n",
      "AV ENG ANT FRANCISCO DE PAULA SOUZA, 2799 Campinas SP\n",
      "ESTRADAS DAS TORRES, S/N Sao Sebastiao SP\n",
      "RODOVIA SP 310 KM 545, S/N General Salgado SP\n",
      "SITIO SANTA ADELIA KM 4;5, S/N Duartina SP\n",
      "RUA EUCLIDES DA CUNHA, 5 - 7 ANDAR, . Santos SP\n",
      "SERRA DO JAPI - FAZENDA CAGUASSU, . Jundiai SP\n",
      "RUA LOURENCO ANTONELLI, 20 Barra Bonita SP\n",
      "RUA XV DE NOVEMBRO, 491 Paraguacu Paulista SP\n",
      "MORRO DO MAMBUCA - PROX. A PEDREIRA, . Itatiba SP\n",
      "LOCAL NAO ARRUADO; JUNTO A TORRE DE TV MUNICIPAL, . Ribeirao Preto SP\n",
      "AVENIDA 39,S/N, . Barretos SP\n"
     ]
    }
   ],
   "source": [
    "location_latit=[]\n",
    "location_long=[]\n",
    "for element in clean_address[0:100]:\n",
    "    try:\n",
    "        loc=geolocator.geocode(element, timeout=5)\n",
    "        location_latit.append(loc.latitude)\n",
    "        location_long.append(loc.longitude)\n",
    "    except AttributeError:\n",
    "        print(element)"
   ]
  },
  {
   "cell_type": "code",
   "execution_count": 25,
   "metadata": {},
   "outputs": [],
   "source": [
    "import gmplot\n",
    "gmap = gmplot.GoogleMapPlotter(-23.547500, -46.636110, 13)\n",
    "gmap.heatmap(location_latit, location_long)\n",
    "gmap.scatter(location_latit, location_long, 'r', marker=True, size = 100)"
   ]
  },
  {
   "cell_type": "code",
   "execution_count": 26,
   "metadata": {},
   "outputs": [],
   "source": [
    "gmap.apikey = \"API to give in class\"\n",
    "#note that this API will be deactivated on October 15. Make sure you run the code before that."
   ]
  },
  {
   "cell_type": "code",
   "execution_count": 29,
   "metadata": {},
   "outputs": [],
   "source": [
    "gmap.draw( \"Output/RadioSP.html\" )"
   ]
  }
 ],
 "metadata": {
  "kernelspec": {
   "display_name": "Python 3",
   "language": "python",
   "name": "python3"
  },
  "language_info": {
   "codemirror_mode": {
    "name": "ipython",
    "version": 3
   },
   "file_extension": ".py",
   "mimetype": "text/x-python",
   "name": "python",
   "nbconvert_exporter": "python",
   "pygments_lexer": "ipython3",
   "version": "3.7.2"
  }
 },
 "nbformat": 4,
 "nbformat_minor": 2
}

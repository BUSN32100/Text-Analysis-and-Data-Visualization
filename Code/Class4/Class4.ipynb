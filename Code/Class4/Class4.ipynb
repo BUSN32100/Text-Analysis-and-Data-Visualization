{
 "cells": [
  {
   "cell_type": "code",
   "execution_count": 76,
   "metadata": {},
   "outputs": [],
   "source": [
    "import os"
   ]
  },
  {
   "cell_type": "code",
   "execution_count": 77,
   "metadata": {},
   "outputs": [
    {
     "data": {
      "text/plain": [
       "'/Users/ariedamuco/Dropbox (CEU Econ)/TextAnalysisCEU/Input'"
      ]
     },
     "execution_count": 77,
     "metadata": {},
     "output_type": "execute_result"
    }
   ],
   "source": [
    "pwd"
   ]
  },
  {
   "cell_type": "code",
   "execution_count": 78,
   "metadata": {},
   "outputs": [],
   "source": [
    "os.chdir(\"/Users/ariedamuco/Dropbox (CEU Econ)/TextAnalysisCEU\")"
   ]
  },
  {
   "cell_type": "code",
   "execution_count": 79,
   "metadata": {},
   "outputs": [
    {
     "data": {
      "text/plain": [
       "'/Users/ariedamuco/Dropbox (CEU Econ)/TextAnalysisCEU'"
      ]
     },
     "execution_count": 79,
     "metadata": {},
     "output_type": "execute_result"
    }
   ],
   "source": [
    "pwd"
   ]
  },
  {
   "cell_type": "code",
   "execution_count": 80,
   "metadata": {},
   "outputs": [],
   "source": [
    "os.chdir('/Users/ariedamuco/Dropbox (CEU Econ)/TextAnalysisCEU/Input')\n"
   ]
  },
  {
   "cell_type": "code",
   "execution_count": 81,
   "metadata": {},
   "outputs": [
    {
     "data": {
      "text/plain": [
       "'/Users/ariedamuco/Dropbox (CEU Econ)/TextAnalysisCEU/Input'"
      ]
     },
     "execution_count": 81,
     "metadata": {},
     "output_type": "execute_result"
    }
   ],
   "source": [
    "pwd"
   ]
  },
  {
   "cell_type": "code",
   "execution_count": 82,
   "metadata": {},
   "outputs": [
    {
     "data": {
      "text/plain": [
       "['Housing.csv',\n",
       " 'Barcelona.txt',\n",
       " 'Mall_Customers.csv',\n",
       " '106-extracted-date',\n",
       " '.DS_Store',\n",
       " 'budapest.txt',\n",
       " 'Motivational4.txt',\n",
       " '105-extracted-date',\n",
       " 'boston.csv',\n",
       " 'nltk_stopwords.txt',\n",
       " 'Motivational1.txt',\n",
       " 'Motivational2.txt',\n",
       " 'UB_logistics.xlsx',\n",
       " 'Motivational3.txt',\n",
       " 'Amazon_Unlocked_Mobile.csv',\n",
       " 'smsspamcollection',\n",
       " 'pdfs',\n",
       " 'yelp.csv',\n",
       " 'Hello.txt',\n",
       " 'Social_Network_Ads.csv']"
      ]
     },
     "execution_count": 82,
     "metadata": {},
     "output_type": "execute_result"
    }
   ],
   "source": [
    "os.listdir()"
   ]
  },
  {
   "cell_type": "code",
   "execution_count": 83,
   "metadata": {},
   "outputs": [],
   "source": [
    "hello=open(\"Hello.txt\")"
   ]
  },
  {
   "cell_type": "code",
   "execution_count": 84,
   "metadata": {},
   "outputs": [
    {
     "data": {
      "text/plain": [
       "<_io.TextIOWrapper name='Hello.txt' mode='r' encoding='UTF-8'>"
      ]
     },
     "execution_count": 84,
     "metadata": {},
     "output_type": "execute_result"
    }
   ],
   "source": [
    "hello"
   ]
  },
  {
   "cell_type": "code",
   "execution_count": 85,
   "metadata": {},
   "outputs": [
    {
     "data": {
      "text/plain": [
       "'I don\\'t know why you say, \"Goodbye\", I say, \"Hello\"'"
      ]
     },
     "execution_count": 85,
     "metadata": {},
     "output_type": "execute_result"
    }
   ],
   "source": [
    "hello.read()"
   ]
  },
  {
   "cell_type": "code",
   "execution_count": 86,
   "metadata": {},
   "outputs": [],
   "source": [
    "#hello=open(\"../Hello.txt\")"
   ]
  },
  {
   "cell_type": "code",
   "execution_count": 87,
   "metadata": {},
   "outputs": [],
   "source": [
    "budapest = open(\"budapest.txt\", mode='r', encoding=\"utf-8\" )"
   ]
  },
  {
   "cell_type": "code",
   "execution_count": 88,
   "metadata": {},
   "outputs": [
    {
     "data": {
      "text/plain": [
       "'The history of Budapest began when an early Celtic settlement transformed into the Roman town of Aquincum, the capital of Lower Pannonia.\\nThe Hungarians arrived in the territory in the late 9th century.\\n The area was pillaged by the Mongols in 1241.\\n Buda, the settlements on the west bank of the river, became one of the centres of Renaissance humanist culture by the 15th century.'"
      ]
     },
     "execution_count": 88,
     "metadata": {},
     "output_type": "execute_result"
    }
   ],
   "source": [
    "budapest.read()"
   ]
  },
  {
   "cell_type": "code",
   "execution_count": 91,
   "metadata": {},
   "outputs": [
    {
     "data": {
      "text/plain": [
       "str"
      ]
     },
     "execution_count": 91,
     "metadata": {},
     "output_type": "execute_result"
    }
   ],
   "source": [
    "type(budapest.read())"
   ]
  },
  {
   "cell_type": "code",
   "execution_count": 93,
   "metadata": {},
   "outputs": [],
   "source": [
    "import wikipedia"
   ]
  },
  {
   "cell_type": "code",
   "execution_count": 94,
   "metadata": {},
   "outputs": [
    {
     "data": {
      "text/plain": [
       "['Budapest',\n",
       " 'The Grand Budapest Hotel',\n",
       " 'Hungarian Revolution of 1956',\n",
       " 'Budapest Ferenc Liszt International Airport',\n",
       " 'Siege of Budapest',\n",
       " 'Budapest Bank',\n",
       " 'Hungarian Parliament Building',\n",
       " 'Budapest Memorandum on Security Assurances',\n",
       " 'List of films shot in Budapest',\n",
       " 'Budapest (song)']"
      ]
     },
     "execution_count": 94,
     "metadata": {},
     "output_type": "execute_result"
    }
   ],
   "source": [
    "wikipedia.search(\"Budapest\")"
   ]
  },
  {
   "cell_type": "code",
   "execution_count": 95,
   "metadata": {},
   "outputs": [],
   "source": [
    "BP = wikipedia.page('Budapest')"
   ]
  },
  {
   "cell_type": "code",
   "execution_count": 96,
   "metadata": {},
   "outputs": [
    {
     "data": {
      "text/plain": [
       "<WikipediaPage 'Budapest'>"
      ]
     },
     "execution_count": 96,
     "metadata": {},
     "output_type": "execute_result"
    }
   ],
   "source": [
    "BP"
   ]
  },
  {
   "cell_type": "code",
   "execution_count": 97,
   "metadata": {},
   "outputs": [
    {
     "data": {
      "text/plain": [
       "'Budapest'"
      ]
     },
     "execution_count": 97,
     "metadata": {},
     "output_type": "execute_result"
    }
   ],
   "source": [
    "BP.title"
   ]
  },
  {
   "cell_type": "code",
   "execution_count": 98,
   "metadata": {},
   "outputs": [
    {
     "data": {
      "text/plain": [
       "'https://en.wikipedia.org/wiki/Budapest'"
      ]
     },
     "execution_count": 98,
     "metadata": {},
     "output_type": "execute_result"
    }
   ],
   "source": [
    "BP.url"
   ]
  },
  {
   "cell_type": "code",
   "execution_count": 99,
   "metadata": {},
   "outputs": [],
   "source": [
    "Budapest=wikipedia.summary(\"Budapest\")"
   ]
  },
  {
   "cell_type": "code",
   "execution_count": 100,
   "metadata": {},
   "outputs": [
    {
     "data": {
      "text/plain": [
       "\"Budapest (, Hungarian pronunciation: [ˈbudɒpɛʃt]) is the capital and the most populous city of Hungary, and the tenth-largest city in the European Union by population within city limits. The city has an estimated population of 1,752,286 over a land area of about 525 square kilometres (203 square miles). Budapest is both a city and county, and forms the centre of the Budapest metropolitan area, which has an area of 7,626 square kilometres (2,944 square miles) and a population of 3,303,786, comprising 33% of the population of Hungary.The history of Budapest began when an early Celtic settlement transformed into the Roman town of Aquincum, the capital of Lower Pannonia. The Hungarians arrived in the territory in the late 9th century. The area was pillaged by the Mongols in 1241. Buda, the settlements on the west bank of the river, became one of the centres of Renaissance humanist culture by the 15th century. \\nThe Battle of Mohács, in 1526, was followed by nearly 150 years of Ottoman rule. After the reconquest of Buda in 1686, the region entered a new age of prosperity. Pest-Buda became a global city with the unification of Buda, Óbuda, and Pest on 17 November 1873, with the name 'Budapest' given to the new capital. Budapest also became the co-capital of the Austro-Hungarian Empire, a great power that dissolved in 1918, following World War I. The city was the focal point of the Hungarian Revolution of 1848, the Battle of Budapest in 1945, and the Hungarian Revolution of 1956.Budapest is an Alpha − global city with strengths in commerce, finance, media, art, fashion, research, technology, education, and entertainment. It is Hungary's financial centre and was ranked as the second fastest-developing urban economy in Europe. Budapest is the headquarters of the European Institute of Innovation and Technology, the European Police College and the first foreign office of the China Investment Promotion Agency. Over 40 colleges and universities are located in Budapest, including the Eötvös Loránd University, the Semmelweis University and the Budapest University of Technology and Economics. Opened in 1896, the city's subway system, the Budapest Metro, serves 1.27 million, while the Budapest Tram Network serves 1.08 million passengers daily.Among Budapest's important museums and cultural institutions is the Museum of Fine Arts. Further famous cultural institutions are the Hungarian National Museum, House of Terror, Franz Liszt Academy of Music, Hungarian State Opera House and National Széchényi Library. The central area of the city along the Danube River is classified as a UNESCO World Heritage Site and has several notable monuments, including the Hungarian Parliament, Buda Castle, Fisherman's Bastion, Gresham Palace, Széchenyi Chain Bridge, Matthias Church and the Liberty Statue. Other famous landmarks include Andrássy Avenue, St. Stephen's Basilica, Heroes' Square, the Great Market Hall, the Nyugati Railway Station built by the Eiffel Company of Paris in 1877 and the second-oldest metro line in the world, the Millennium Underground Railway. The city also has around 80 geothermal springs, the  largest thermal water cave system, second largest synagogue, and third largest Parliament building in the world. Budapest attracts 4.4 million international tourists per year, making it a popular destination in Europe.\""
      ]
     },
     "execution_count": 100,
     "metadata": {},
     "output_type": "execute_result"
    }
   ],
   "source": [
    "Budapest"
   ]
  },
  {
   "cell_type": "code",
   "execution_count": 102,
   "metadata": {},
   "outputs": [],
   "source": [
    "budapest_wiki=BP.content"
   ]
  },
  {
   "cell_type": "code",
   "execution_count": 103,
   "metadata": {},
   "outputs": [
    {
     "data": {
      "text/plain": [
       "str"
      ]
     },
     "execution_count": 103,
     "metadata": {},
     "output_type": "execute_result"
    }
   ],
   "source": [
    "type(budapest_wiki)"
   ]
  },
  {
   "cell_type": "code",
   "execution_count": 108,
   "metadata": {},
   "outputs": [],
   "source": [
    "MyFileOpen=open(\"../Output/MyFirstFile.txt\",\"w\")"
   ]
  },
  {
   "cell_type": "code",
   "execution_count": 109,
   "metadata": {},
   "outputs": [
    {
     "data": {
      "text/plain": [
       "<_io.TextIOWrapper name='../Output/MyFirstFile.txt' mode='w' encoding='UTF-8'>"
      ]
     },
     "execution_count": 109,
     "metadata": {},
     "output_type": "execute_result"
    }
   ],
   "source": [
    "MyFileOpen"
   ]
  },
  {
   "cell_type": "code",
   "execution_count": 110,
   "metadata": {},
   "outputs": [
    {
     "data": {
      "text/plain": [
       "51"
      ]
     },
     "execution_count": 110,
     "metadata": {},
     "output_type": "execute_result"
    }
   ],
   "source": [
    "MyFileOpen.write(\"This is my first file that I am writing with Python\")"
   ]
  },
  {
   "cell_type": "code",
   "execution_count": 112,
   "metadata": {},
   "outputs": [],
   "source": [
    "MyFileOpen.close()"
   ]
  },
  {
   "cell_type": "code",
   "execution_count": 113,
   "metadata": {},
   "outputs": [
    {
     "ename": "ValueError",
     "evalue": "I/O operation on closed file.",
     "output_type": "error",
     "traceback": [
      "\u001b[0;31m---------------------------------------------------------------------------\u001b[0m",
      "\u001b[0;31mValueError\u001b[0m                                Traceback (most recent call last)",
      "\u001b[0;32m<ipython-input-113-1fded827b5f4>\u001b[0m in \u001b[0;36m<module>\u001b[0;34m()\u001b[0m\n\u001b[0;32m----> 1\u001b[0;31m \u001b[0mMyFileOpen\u001b[0m\u001b[0;34m.\u001b[0m\u001b[0mwrite\u001b[0m\u001b[0;34m(\u001b[0m\u001b[0;34m\"This is my second line\"\u001b[0m\u001b[0;34m)\u001b[0m\u001b[0;34m\u001b[0m\u001b[0;34m\u001b[0m\u001b[0m\n\u001b[0m",
      "\u001b[0;31mValueError\u001b[0m: I/O operation on closed file."
     ]
    }
   ],
   "source": [
    "MyFileOpen.write(\"This is my second line\")"
   ]
  },
  {
   "cell_type": "code",
   "execution_count": 114,
   "metadata": {},
   "outputs": [],
   "source": [
    "MyFileOpen=open(\"../Output/MyFirstFile.txt\",\"a\")"
   ]
  },
  {
   "cell_type": "code",
   "execution_count": 115,
   "metadata": {},
   "outputs": [
    {
     "data": {
      "text/plain": [
       "22"
      ]
     },
     "execution_count": 115,
     "metadata": {},
     "output_type": "execute_result"
    }
   ],
   "source": [
    "MyFileOpen.write(\"This is my second line\")"
   ]
  },
  {
   "cell_type": "code",
   "execution_count": 116,
   "metadata": {},
   "outputs": [],
   "source": [
    "MyFileOpen.close()"
   ]
  },
  {
   "cell_type": "code",
   "execution_count": 120,
   "metadata": {},
   "outputs": [],
   "source": [
    "MyFileOpen=open(\"../Output/MyFirstFile.txt\",\"w\")"
   ]
  },
  {
   "cell_type": "code",
   "execution_count": 121,
   "metadata": {},
   "outputs": [
    {
     "data": {
      "text/plain": [
       "20"
      ]
     },
     "execution_count": 121,
     "metadata": {},
     "output_type": "execute_result"
    }
   ],
   "source": [
    "MyFileOpen.write(\"First line of file \\n\")"
   ]
  },
  {
   "cell_type": "code",
   "execution_count": 122,
   "metadata": {},
   "outputs": [
    {
     "data": {
      "text/plain": [
       "22"
      ]
     },
     "execution_count": 122,
     "metadata": {},
     "output_type": "execute_result"
    }
   ],
   "source": [
    "MyFileOpen.write(\"This is another line \\n\")"
   ]
  },
  {
   "cell_type": "code",
   "execution_count": 123,
   "metadata": {},
   "outputs": [],
   "source": [
    "MyFileOpen.close()"
   ]
  },
  {
   "cell_type": "code",
   "execution_count": 124,
   "metadata": {},
   "outputs": [
    {
     "data": {
      "text/plain": [
       "'/Users/ariedamuco/Dropbox (CEU Econ)/TextAnalysisCEU/Input'"
      ]
     },
     "execution_count": 124,
     "metadata": {},
     "output_type": "execute_result"
    }
   ],
   "source": [
    "pwd"
   ]
  },
  {
   "cell_type": "code",
   "execution_count": 132,
   "metadata": {},
   "outputs": [],
   "source": [
    "wiki_file=open(\"wiki_page.txt\", \"w\", encoding=\"utf-8\")"
   ]
  },
  {
   "cell_type": "code",
   "execution_count": 133,
   "metadata": {},
   "outputs": [
    {
     "data": {
      "text/plain": [
       "85468"
      ]
     },
     "execution_count": 133,
     "metadata": {},
     "output_type": "execute_result"
    }
   ],
   "source": [
    "wiki_file.write(BP.content)"
   ]
  },
  {
   "cell_type": "code",
   "execution_count": 134,
   "metadata": {},
   "outputs": [],
   "source": [
    "wiki_file.close()"
   ]
  },
  {
   "cell_type": "code",
   "execution_count": 139,
   "metadata": {},
   "outputs": [],
   "source": [
    "nltk= open(\"nltk_stopwords.txt\", mode='r')"
   ]
  },
  {
   "cell_type": "code",
   "execution_count": 140,
   "metadata": {},
   "outputs": [],
   "source": [
    "nltk_stopwords=[element.replace(\"\\n\",\"\") for element in nltk.readlines()]"
   ]
  },
  {
   "cell_type": "code",
   "execution_count": 143,
   "metadata": {},
   "outputs": [
    {
     "data": {
      "text/plain": [
       "[0, 5, 10, 15, 20]"
      ]
     },
     "execution_count": 143,
     "metadata": {},
     "output_type": "execute_result"
    }
   ],
   "source": [
    "[element*5 for element in range(0,5)]"
   ]
  },
  {
   "cell_type": "code",
   "execution_count": 144,
   "metadata": {},
   "outputs": [],
   "source": [
    "MyList=[]\n",
    "for element in range(0,5):\n",
    "    MyList.append(element*5)"
   ]
  },
  {
   "cell_type": "code",
   "execution_count": 145,
   "metadata": {},
   "outputs": [
    {
     "data": {
      "text/plain": [
       "[0, 5, 10, 15, 20]"
      ]
     },
     "execution_count": 145,
     "metadata": {},
     "output_type": "execute_result"
    }
   ],
   "source": [
    "MyList"
   ]
  },
  {
   "cell_type": "code",
   "execution_count": 152,
   "metadata": {},
   "outputs": [
    {
     "data": {
      "text/plain": [
       "['bbbb', 'aaaa', 'nnnn', 'aaaa', 'nnnn', 'aaaa']"
      ]
     },
     "execution_count": 152,
     "metadata": {},
     "output_type": "execute_result"
    }
   ],
   "source": [
    "[char*4 for char in \"banana\"]"
   ]
  },
  {
   "cell_type": "code",
   "execution_count": 155,
   "metadata": {},
   "outputs": [],
   "source": [
    "MyListChar4=[]\n",
    "for char in \"banana\":\n",
    "    MyListChar4.append(char*4)"
   ]
  },
  {
   "cell_type": "code",
   "execution_count": 156,
   "metadata": {},
   "outputs": [
    {
     "data": {
      "text/plain": [
       "['bbbb', 'aaaa', 'nnnn', 'aaaa', 'nnnn', 'aaaa']"
      ]
     },
     "execution_count": 156,
     "metadata": {},
     "output_type": "execute_result"
    }
   ],
   "source": [
    "MyListChar4"
   ]
  },
  {
   "cell_type": "code",
   "execution_count": 157,
   "metadata": {},
   "outputs": [],
   "source": [
    "nltk= open(\"nltk_stopwords.txt\", mode='r')"
   ]
  },
  {
   "cell_type": "code",
   "execution_count": 158,
   "metadata": {},
   "outputs": [],
   "source": [
    "nltk_stopwords=[element.replace(\"\\n\",\"\") for element in nltk.readlines()]"
   ]
  },
  {
   "cell_type": "code",
   "execution_count": 161,
   "metadata": {},
   "outputs": [],
   "source": [
    "BP_wiki=BP.content"
   ]
  },
  {
   "cell_type": "code",
   "execution_count": 175,
   "metadata": {},
   "outputs": [],
   "source": [
    "import re\n",
    "BP_wiki_clean=re.sub(r'[^a-zA-Z]+', ' ', BP_wiki)"
   ]
  },
  {
   "cell_type": "code",
   "execution_count": 178,
   "metadata": {},
   "outputs": [],
   "source": [
    "tokenized_BP=BP_wiki_clean.lower().split()"
   ]
  },
  {
   "cell_type": "code",
   "execution_count": 180,
   "metadata": {},
   "outputs": [],
   "source": [
    "tokenized_BP_nostopwords=[]\n",
    "for element in tokenized_BP:\n",
    "    if element not in nltk_stopwords and len(element)>3:    \n",
    "        tokenized_BP_nostopwords.append(element)\n"
   ]
  },
  {
   "cell_type": "code",
   "execution_count": 181,
   "metadata": {},
   "outputs": [
    {
     "data": {
      "text/plain": [
       "['budapest',\n",
       " 'hungarian',\n",
       " 'pronunciation',\n",
       " 'capital',\n",
       " 'populous',\n",
       " 'city',\n",
       " 'hungary',\n",
       " 'tenth',\n",
       " 'largest',\n",
       " 'city',\n",
       " 'european',\n",
       " 'union',\n",
       " 'population',\n",
       " 'within',\n",
       " 'city',\n",
       " 'limits',\n",
       " 'city',\n",
       " 'estimated',\n",
       " 'population',\n",
       " 'land',\n",
       " 'area',\n",
       " 'square',\n",
       " 'kilometres',\n",
       " 'square',\n",
       " 'miles',\n",
       " 'budapest',\n",
       " 'city',\n",
       " 'county',\n",
       " 'forms',\n",
       " 'centre',\n",
       " 'budapest',\n",
       " 'metropolitan',\n",
       " 'area',\n",
       " 'area',\n",
       " 'square',\n",
       " 'kilometres',\n",
       " 'square',\n",
       " 'miles',\n",
       " 'population',\n",
       " 'comprising',\n",
       " 'population',\n",
       " 'hungary',\n",
       " 'history',\n",
       " 'budapest',\n",
       " 'began',\n",
       " 'early',\n",
       " 'celtic',\n",
       " 'settlement',\n",
       " 'transformed',\n",
       " 'roman',\n",
       " 'town',\n",
       " 'aquincum',\n",
       " 'capital',\n",
       " 'lower',\n",
       " 'pannonia',\n",
       " 'hungarians',\n",
       " 'arrived',\n",
       " 'territory',\n",
       " 'late',\n",
       " 'century',\n",
       " 'area',\n",
       " 'pillaged',\n",
       " 'mongols',\n",
       " 'buda',\n",
       " 'settlements',\n",
       " 'west',\n",
       " 'bank',\n",
       " 'river',\n",
       " 'became',\n",
       " 'centres',\n",
       " 'renaissance',\n",
       " 'humanist',\n",
       " 'culture',\n",
       " 'century',\n",
       " 'battle',\n",
       " 'followed',\n",
       " 'nearly',\n",
       " 'years',\n",
       " 'ottoman',\n",
       " 'rule',\n",
       " 'reconquest',\n",
       " 'buda',\n",
       " 'region',\n",
       " 'entered',\n",
       " 'prosperity',\n",
       " 'pest',\n",
       " 'buda',\n",
       " 'became',\n",
       " 'global',\n",
       " 'city',\n",
       " 'unification',\n",
       " 'buda',\n",
       " 'buda',\n",
       " 'pest',\n",
       " 'november',\n",
       " 'name',\n",
       " 'budapest',\n",
       " 'given',\n",
       " 'capital',\n",
       " 'budapest',\n",
       " 'also',\n",
       " 'became',\n",
       " 'capital',\n",
       " 'austro',\n",
       " 'hungarian',\n",
       " 'empire',\n",
       " 'great',\n",
       " 'power',\n",
       " 'dissolved',\n",
       " 'following',\n",
       " 'world',\n",
       " 'city',\n",
       " 'focal',\n",
       " 'point',\n",
       " 'hungarian',\n",
       " 'revolution',\n",
       " 'battle',\n",
       " 'budapest',\n",
       " 'hungarian',\n",
       " 'revolution',\n",
       " 'budapest',\n",
       " 'alpha',\n",
       " 'global',\n",
       " 'city',\n",
       " 'strengths',\n",
       " 'commerce',\n",
       " 'finance',\n",
       " 'media',\n",
       " 'fashion',\n",
       " 'research',\n",
       " 'technology',\n",
       " 'education',\n",
       " 'entertainment',\n",
       " 'hungary',\n",
       " 'financial',\n",
       " 'centre',\n",
       " 'ranked',\n",
       " 'second',\n",
       " 'fastest',\n",
       " 'developing',\n",
       " 'urban',\n",
       " 'economy',\n",
       " 'europe',\n",
       " 'budapest',\n",
       " 'headquarters',\n",
       " 'european',\n",
       " 'institute',\n",
       " 'innovation',\n",
       " 'technology',\n",
       " 'european',\n",
       " 'police',\n",
       " 'college',\n",
       " 'first',\n",
       " 'foreign',\n",
       " 'office',\n",
       " 'china',\n",
       " 'investment',\n",
       " 'promotion',\n",
       " 'agency',\n",
       " 'colleges',\n",
       " 'universities',\n",
       " 'located',\n",
       " 'budapest',\n",
       " 'including',\n",
       " 'university',\n",
       " 'semmelweis',\n",
       " 'university',\n",
       " 'budapest',\n",
       " 'university',\n",
       " 'technology',\n",
       " 'economics',\n",
       " 'opened',\n",
       " 'city',\n",
       " 'subway',\n",
       " 'system',\n",
       " 'budapest',\n",
       " 'metro',\n",
       " 'serves',\n",
       " 'million',\n",
       " 'budapest',\n",
       " 'tram',\n",
       " 'network',\n",
       " 'serves',\n",
       " 'million',\n",
       " 'passengers',\n",
       " 'daily',\n",
       " 'among',\n",
       " 'budapest',\n",
       " 'important',\n",
       " 'museums',\n",
       " 'cultural',\n",
       " 'institutions',\n",
       " 'museum',\n",
       " 'fine',\n",
       " 'arts',\n",
       " 'famous',\n",
       " 'cultural',\n",
       " 'institutions',\n",
       " 'hungarian',\n",
       " 'national',\n",
       " 'museum',\n",
       " 'house',\n",
       " 'terror',\n",
       " 'franz',\n",
       " 'liszt',\n",
       " 'academy',\n",
       " 'music',\n",
       " 'hungarian',\n",
       " 'state',\n",
       " 'opera',\n",
       " 'house',\n",
       " 'national',\n",
       " 'library',\n",
       " 'central',\n",
       " 'area',\n",
       " 'city',\n",
       " 'along',\n",
       " 'danube',\n",
       " 'river',\n",
       " 'classified',\n",
       " 'unesco',\n",
       " 'world',\n",
       " 'heritage',\n",
       " 'site',\n",
       " 'several',\n",
       " 'notable',\n",
       " 'monuments',\n",
       " 'including',\n",
       " 'hungarian',\n",
       " 'parliament',\n",
       " 'buda',\n",
       " 'castle',\n",
       " 'fisherman',\n",
       " 'bastion',\n",
       " 'gresham',\n",
       " 'palace',\n",
       " 'chenyi',\n",
       " 'chain',\n",
       " 'bridge',\n",
       " 'matthias',\n",
       " 'church',\n",
       " 'liberty',\n",
       " 'statue',\n",
       " 'famous',\n",
       " 'landmarks',\n",
       " 'include',\n",
       " 'andr',\n",
       " 'avenue',\n",
       " 'stephen',\n",
       " 'basilica',\n",
       " 'heroes',\n",
       " 'square',\n",
       " 'great',\n",
       " 'market',\n",
       " 'hall',\n",
       " 'nyugati',\n",
       " 'railway',\n",
       " 'station',\n",
       " 'built',\n",
       " 'eiffel',\n",
       " 'company',\n",
       " 'paris',\n",
       " 'second',\n",
       " 'oldest',\n",
       " 'metro',\n",
       " 'line',\n",
       " 'world',\n",
       " 'millennium',\n",
       " 'underground',\n",
       " 'railway',\n",
       " 'city',\n",
       " 'also',\n",
       " 'around',\n",
       " 'geothermal',\n",
       " 'springs',\n",
       " 'largest',\n",
       " 'thermal',\n",
       " 'water',\n",
       " 'cave',\n",
       " 'system',\n",
       " 'second',\n",
       " 'largest',\n",
       " 'synagogue',\n",
       " 'third',\n",
       " 'largest',\n",
       " 'parliament',\n",
       " 'building',\n",
       " 'world',\n",
       " 'budapest',\n",
       " 'attracts',\n",
       " 'million',\n",
       " 'international',\n",
       " 'tourists',\n",
       " 'year',\n",
       " 'making',\n",
       " 'popular',\n",
       " 'destination',\n",
       " 'europe',\n",
       " 'etymology',\n",
       " 'pronunciation',\n",
       " 'previously',\n",
       " 'separate',\n",
       " 'towns',\n",
       " 'buda',\n",
       " 'buda',\n",
       " 'pest',\n",
       " 'officially',\n",
       " 'unified',\n",
       " 'given',\n",
       " 'name',\n",
       " 'budapest',\n",
       " 'towns',\n",
       " 'together',\n",
       " 'sometimes',\n",
       " 'referred',\n",
       " 'colloquially',\n",
       " 'pest',\n",
       " 'buda',\n",
       " 'pest',\n",
       " 'also',\n",
       " 'sometimes',\n",
       " 'used',\n",
       " 'colloquially',\n",
       " 'shortened',\n",
       " 'name',\n",
       " 'budapest',\n",
       " 'varieties',\n",
       " 'english',\n",
       " 'pronounce',\n",
       " 'english',\n",
       " 'word',\n",
       " 'pest',\n",
       " 'buda',\n",
       " 'pronounced',\n",
       " 'either',\n",
       " 'like',\n",
       " 'food',\n",
       " 'like',\n",
       " 'hungarian',\n",
       " 'pronounced',\n",
       " 'wash',\n",
       " 'hungarian',\n",
       " 'listen',\n",
       " 'origin',\n",
       " 'names',\n",
       " 'buda',\n",
       " 'pest',\n",
       " 'obscure',\n",
       " 'buda',\n",
       " 'probably',\n",
       " 'name',\n",
       " 'first',\n",
       " 'constable',\n",
       " 'fortress',\n",
       " 'built',\n",
       " 'castle',\n",
       " 'hill',\n",
       " 'century',\n",
       " 'derivative',\n",
       " 'personal',\n",
       " 'name',\n",
       " 'turkic',\n",
       " 'origin',\n",
       " 'meaning',\n",
       " 'twig',\n",
       " 'slavic',\n",
       " 'personal',\n",
       " 'name',\n",
       " 'buda',\n",
       " 'short',\n",
       " 'form',\n",
       " 'budim',\n",
       " 'budivoj',\n",
       " 'linguistically',\n",
       " 'however',\n",
       " 'german',\n",
       " 'origin',\n",
       " 'slavic',\n",
       " 'derivative',\n",
       " 'voda',\n",
       " 'water',\n",
       " 'possible',\n",
       " 'certainty',\n",
       " 'turkic',\n",
       " 'word',\n",
       " 'really',\n",
       " 'comes',\n",
       " 'word',\n",
       " 'buta',\n",
       " 'buda',\n",
       " 'branch',\n",
       " 'twig',\n",
       " 'according',\n",
       " 'legend',\n",
       " 'recorded',\n",
       " 'chronicles',\n",
       " 'middle',\n",
       " 'ages',\n",
       " 'buda',\n",
       " 'comes',\n",
       " 'name',\n",
       " 'founder',\n",
       " 'bleda',\n",
       " 'brother',\n",
       " 'hunnic',\n",
       " 'ruler',\n",
       " 'attila',\n",
       " 'several',\n",
       " 'theories',\n",
       " 'pest',\n",
       " 'states',\n",
       " 'name',\n",
       " 'derives',\n",
       " 'roman',\n",
       " 'times',\n",
       " 'since',\n",
       " 'local',\n",
       " 'fortress',\n",
       " 'contra',\n",
       " 'aquincum',\n",
       " 'called',\n",
       " 'ptolemaios',\n",
       " 'pession',\n",
       " 'another',\n",
       " 'pest',\n",
       " 'originates',\n",
       " 'slavic',\n",
       " 'word',\n",
       " 'cave',\n",
       " 'tera',\n",
       " 'third',\n",
       " 'cites',\n",
       " 'referencing',\n",
       " 'cave',\n",
       " 'fires',\n",
       " 'burned',\n",
       " 'limekiln',\n",
       " 'history',\n",
       " 'early',\n",
       " 'history',\n",
       " 'first',\n",
       " 'settlement',\n",
       " 'territory',\n",
       " 'budapest',\n",
       " 'built',\n",
       " 'celts',\n",
       " 'later',\n",
       " 'occupied',\n",
       " 'romans',\n",
       " 'roman',\n",
       " 'settlement',\n",
       " 'aquincum',\n",
       " 'became',\n",
       " 'main',\n",
       " 'city',\n",
       " 'pannonia',\n",
       " 'inferior',\n",
       " 'first',\n",
       " 'military',\n",
       " 'settlement',\n",
       " 'gradually',\n",
       " 'city',\n",
       " 'rose',\n",
       " 'around',\n",
       " 'making',\n",
       " 'focal',\n",
       " 'point',\n",
       " 'city',\n",
       " 'commercial',\n",
       " 'life',\n",
       " 'today',\n",
       " 'area',\n",
       " 'corresponds',\n",
       " 'buda',\n",
       " 'district',\n",
       " 'within',\n",
       " 'budapest',\n",
       " 'romans',\n",
       " 'constructed',\n",
       " 'roads',\n",
       " 'amphitheaters',\n",
       " 'baths',\n",
       " 'houses',\n",
       " 'heated',\n",
       " 'floors',\n",
       " 'fortified',\n",
       " 'military',\n",
       " 'camp',\n",
       " 'roman',\n",
       " 'city',\n",
       " 'aquincum',\n",
       " 'best',\n",
       " 'conserved',\n",
       " 'roman',\n",
       " 'sites',\n",
       " 'hungary',\n",
       " 'archaeological',\n",
       " 'site',\n",
       " 'turned',\n",
       " 'museum',\n",
       " 'inside',\n",
       " 'open',\n",
       " 'sections',\n",
       " 'magyar',\n",
       " 'tribes',\n",
       " 'forced',\n",
       " 'original',\n",
       " 'homeland',\n",
       " 'north',\n",
       " 'bulgaria',\n",
       " 'tsar',\n",
       " 'simeon',\n",
       " 'battle',\n",
       " 'southern',\n",
       " 'settled',\n",
       " 'territory',\n",
       " 'century',\n",
       " 'displacing',\n",
       " 'founding',\n",
       " 'bulgarian',\n",
       " 'settlers',\n",
       " 'towns',\n",
       " 'buda',\n",
       " 'pest',\n",
       " 'century',\n",
       " 'later',\n",
       " 'officially',\n",
       " 'founded',\n",
       " 'kingdom',\n",
       " 'hungary',\n",
       " 'research',\n",
       " 'places',\n",
       " 'probable',\n",
       " 'residence',\n",
       " 'early',\n",
       " 'place',\n",
       " 'central',\n",
       " 'power',\n",
       " 'near',\n",
       " 'became',\n",
       " 'budapest',\n",
       " 'tatar',\n",
       " 'invasion',\n",
       " 'century',\n",
       " 'quickly',\n",
       " 'proved',\n",
       " 'difficult',\n",
       " 'defend',\n",
       " 'plain',\n",
       " 'king',\n",
       " 'hungary',\n",
       " 'therefore',\n",
       " 'ordered',\n",
       " 'construction',\n",
       " 'reinforced',\n",
       " 'stone',\n",
       " 'walls',\n",
       " 'around',\n",
       " 'towns',\n",
       " 'royal',\n",
       " 'palace',\n",
       " 'protecting',\n",
       " 'hills',\n",
       " 'buda',\n",
       " 'became',\n",
       " 'capital',\n",
       " 'hungary',\n",
       " 'cultural',\n",
       " 'role',\n",
       " 'buda',\n",
       " 'particularly',\n",
       " 'significant',\n",
       " 'reign',\n",
       " 'king',\n",
       " 'matthias',\n",
       " 'corvinus',\n",
       " 'italian',\n",
       " 'renaissance',\n",
       " 'great',\n",
       " 'influence',\n",
       " 'city',\n",
       " 'library',\n",
       " 'bibliotheca',\n",
       " 'corviniana',\n",
       " 'europe',\n",
       " 'greatest',\n",
       " 'collection',\n",
       " 'historical',\n",
       " 'chronicles',\n",
       " 'philosophic',\n",
       " 'scientific',\n",
       " 'works',\n",
       " 'century',\n",
       " 'second',\n",
       " 'size',\n",
       " 'vatican',\n",
       " 'library',\n",
       " 'foundation',\n",
       " 'first',\n",
       " 'hungarian',\n",
       " 'university',\n",
       " 'university',\n",
       " 'second',\n",
       " 'established',\n",
       " 'buda',\n",
       " 'university',\n",
       " 'buda',\n",
       " 'first',\n",
       " 'hungarian',\n",
       " 'book',\n",
       " 'printed',\n",
       " 'buda',\n",
       " 'buda',\n",
       " 'inhabitants',\n",
       " 'around',\n",
       " 'ottomans',\n",
       " 'conquered',\n",
       " 'buda',\n",
       " 'well',\n",
       " 'finally',\n",
       " 'occupied',\n",
       " 'turkish',\n",
       " 'rule',\n",
       " 'lasted',\n",
       " 'years',\n",
       " 'ottoman',\n",
       " 'turks',\n",
       " 'constructed',\n",
       " 'many',\n",
       " 'prominent',\n",
       " 'bathing',\n",
       " 'facilities',\n",
       " 'within',\n",
       " 'city',\n",
       " 'baths',\n",
       " 'turks',\n",
       " 'erected',\n",
       " 'rule',\n",
       " 'still',\n",
       " 'years',\n",
       " 'later',\n",
       " 'rudas',\n",
       " 'baths',\n",
       " 'baths',\n",
       " 'number',\n",
       " 'christians',\n",
       " 'thousand',\n",
       " 'fallen',\n",
       " 'seventy',\n",
       " 'unoccupied',\n",
       " 'western',\n",
       " 'part',\n",
       " 'country',\n",
       " 'became',\n",
       " 'part',\n",
       " 'habsburg',\n",
       " 'monarchy',\n",
       " 'royal',\n",
       " 'hungary',\n",
       " 'years',\n",
       " 'unsuccessful',\n",
       " 'siege',\n",
       " 'buda',\n",
       " 'renewed',\n",
       " 'campaign',\n",
       " 'started',\n",
       " 'enter',\n",
       " 'hungarian',\n",
       " 'capital',\n",
       " 'time',\n",
       " 'holy',\n",
       " 'league',\n",
       " 'army',\n",
       " 'twice',\n",
       " 'large',\n",
       " 'containing',\n",
       " 'including',\n",
       " 'german',\n",
       " 'croat',\n",
       " 'dutch',\n",
       " 'hungarian',\n",
       " 'english',\n",
       " 'spanish',\n",
       " 'czech',\n",
       " 'italian',\n",
       " 'french',\n",
       " 'burgundian',\n",
       " 'danish',\n",
       " 'swedish',\n",
       " 'soldiers',\n",
       " 'along',\n",
       " 'europeans',\n",
       " 'volunteers',\n",
       " 'artillerymen',\n",
       " 'officers',\n",
       " 'christian',\n",
       " 'forces',\n",
       " 'seized',\n",
       " 'buda',\n",
       " 'next',\n",
       " 'years',\n",
       " 'former',\n",
       " 'hungarian',\n",
       " 'lands',\n",
       " 'except',\n",
       " 'areas',\n",
       " 'near',\n",
       " 'temesv',\n",
       " 'timi',\n",
       " 'oara',\n",
       " 'taken',\n",
       " 'turks',\n",
       " 'treaty',\n",
       " 'karlowitz',\n",
       " 'territorial',\n",
       " 'changes',\n",
       " 'officially',\n",
       " 'recognized',\n",
       " 'show',\n",
       " 'rule',\n",
       " 'turks',\n",
       " 'entire',\n",
       " 'kingdom',\n",
       " 'hungary',\n",
       " 'removed',\n",
       " 'ottoman',\n",
       " 'rule',\n",
       " 'contemporary',\n",
       " 'history',\n",
       " 'unification',\n",
       " 'century',\n",
       " 'dominated',\n",
       " 'hungarian',\n",
       " 'struggle',\n",
       " 'independence',\n",
       " 'modernisation',\n",
       " 'national',\n",
       " 'insurrection',\n",
       " 'habsburgs',\n",
       " 'began',\n",
       " 'hungarian',\n",
       " 'capital',\n",
       " 'defeated',\n",
       " 'half',\n",
       " 'years',\n",
       " 'later',\n",
       " 'help',\n",
       " 'russian',\n",
       " 'empire',\n",
       " 'year',\n",
       " 'reconciliation',\n",
       " 'brought',\n",
       " 'birth',\n",
       " 'austria',\n",
       " 'hungary',\n",
       " 'made',\n",
       " 'budapest',\n",
       " 'twin',\n",
       " 'capital',\n",
       " 'dual',\n",
       " 'monarchy',\n",
       " 'compromise',\n",
       " 'opened',\n",
       " 'second',\n",
       " 'great',\n",
       " 'phase',\n",
       " 'development',\n",
       " 'history',\n",
       " 'budapest',\n",
       " 'lasting',\n",
       " 'world',\n",
       " 'chain',\n",
       " 'bridge',\n",
       " 'linking',\n",
       " 'buda',\n",
       " 'pest',\n",
       " 'opened',\n",
       " 'first',\n",
       " 'permanent',\n",
       " 'bridge',\n",
       " 'across',\n",
       " 'danube',\n",
       " 'buda',\n",
       " 'pest',\n",
       " 'officially',\n",
       " 'merged',\n",
       " 'third',\n",
       " 'part',\n",
       " 'buda',\n",
       " 'buda',\n",
       " 'thus',\n",
       " 'creating',\n",
       " 'metropolis',\n",
       " 'budapest',\n",
       " 'dynamic',\n",
       " 'pest',\n",
       " 'grew',\n",
       " 'country',\n",
       " 'administrative',\n",
       " 'political',\n",
       " 'economic',\n",
       " 'trade',\n",
       " 'cultural',\n",
       " 'ethnic',\n",
       " 'hungarians',\n",
       " 'overtook',\n",
       " 'germans',\n",
       " 'second',\n",
       " 'half',\n",
       " 'century',\n",
       " 'mass',\n",
       " 'migration',\n",
       " 'overpopulated',\n",
       " 'rural',\n",
       " 'transdanubia',\n",
       " 'great',\n",
       " 'hungarian',\n",
       " 'plain',\n",
       " 'proportion',\n",
       " 'hungarians',\n",
       " 'increased',\n",
       " 'hungarian',\n",
       " 'became',\n",
       " 'dominant',\n",
       " 'language',\n",
       " 'german',\n",
       " 'crowded',\n",
       " 'proportion',\n",
       " 'jews',\n",
       " 'peaked',\n",
       " 'prosperity',\n",
       " 'large',\n",
       " 'jewish',\n",
       " 'community',\n",
       " 'city',\n",
       " 'start',\n",
       " 'century',\n",
       " 'budapest',\n",
       " 'often',\n",
       " 'called',\n",
       " 'jewish',\n",
       " 'mecca',\n",
       " 'judapest',\n",
       " 'austria',\n",
       " 'hungary',\n",
       " 'lost',\n",
       " 'collapsed',\n",
       " 'hungary',\n",
       " 'declared',\n",
       " 'independent',\n",
       " 'republic',\n",
       " 'republic',\n",
       " 'hungary',\n",
       " 'treaty',\n",
       " 'trianon',\n",
       " 'partitioned',\n",
       " 'country',\n",
       " 'result',\n",
       " 'hungary',\n",
       " 'lost',\n",
       " 'thirds',\n",
       " 'territory',\n",
       " 'thirds',\n",
       " 'inhabitants',\n",
       " 'including',\n",
       " 'million',\n",
       " 'million',\n",
       " 'ethnic',\n",
       " 'hungarians',\n",
       " 'year',\n",
       " 'world',\n",
       " 'budapest',\n",
       " 'partly',\n",
       " 'destroyed',\n",
       " 'british',\n",
       " 'american',\n",
       " 'raids',\n",
       " 'first',\n",
       " 'attack',\n",
       " 'april',\n",
       " 'december',\n",
       " 'february',\n",
       " 'city',\n",
       " 'besieged',\n",
       " 'battle',\n",
       " 'budapest',\n",
       " 'budapest',\n",
       " 'suffered',\n",
       " 'major',\n",
       " 'damage',\n",
       " 'caused',\n",
       " 'attacking',\n",
       " 'soviet',\n",
       " 'romanian',\n",
       " 'troops',\n",
       " 'defending',\n",
       " 'german',\n",
       " 'hungarian',\n",
       " 'troops',\n",
       " 'civilians',\n",
       " 'lost',\n",
       " 'lives',\n",
       " 'conflict',\n",
       " 'bridges',\n",
       " 'destroyed',\n",
       " 'germans',\n",
       " 'stone',\n",
       " 'lions',\n",
       " 'decorated',\n",
       " 'chain',\n",
       " 'bridge',\n",
       " 'since',\n",
       " 'survived',\n",
       " 'devastation',\n",
       " 'greater',\n",
       " 'budapest',\n",
       " 'jewish',\n",
       " 'inhabitants',\n",
       " 'died',\n",
       " 'nazi',\n",
       " 'arrow',\n",
       " 'cross',\n",
       " 'party',\n",
       " 'german',\n",
       " 'occupation',\n",
       " 'hungary',\n",
       " 'early',\n",
       " 'swiss',\n",
       " 'diplomat',\n",
       " 'carl',\n",
       " 'lutz',\n",
       " 'rescued',\n",
       " 'tens',\n",
       " 'thousands',\n",
       " 'jews',\n",
       " 'issuing',\n",
       " 'swiss',\n",
       " 'protection',\n",
       " 'papers',\n",
       " 'designating',\n",
       " 'numerous',\n",
       " 'buildings',\n",
       " 'including',\n",
       " 'famous',\n",
       " 'glass',\n",
       " 'house',\n",
       " 'vegh',\n",
       " 'street',\n",
       " 'swiss',\n",
       " 'protected',\n",
       " 'territory',\n",
       " 'hungarian',\n",
       " 'jews',\n",
       " 'found',\n",
       " 'refuge',\n",
       " 'glass',\n",
       " 'house',\n",
       " 'neighboring',\n",
       " 'building',\n",
       " 'swedish',\n",
       " 'diplomat',\n",
       " 'raoul',\n",
       " 'wallenberg',\n",
       " 'saved',\n",
       " 'lives',\n",
       " 'tens',\n",
       " 'thousands',\n",
       " 'jews',\n",
       " 'budapest',\n",
       " 'giving',\n",
       " 'swedish',\n",
       " 'protection',\n",
       " 'papers',\n",
       " 'taking',\n",
       " 'consular',\n",
       " 'protection',\n",
       " 'wallenberg',\n",
       " 'abducted',\n",
       " 'russians',\n",
       " 'january',\n",
       " 'never',\n",
       " 'regained',\n",
       " 'freedom',\n",
       " 'giorgio',\n",
       " 'perlasca',\n",
       " 'italian',\n",
       " 'citizen',\n",
       " 'saved',\n",
       " 'thousands',\n",
       " 'hungarian',\n",
       " 'jews',\n",
       " 'posing',\n",
       " 'spanish',\n",
       " 'diplomat',\n",
       " 'diplomats',\n",
       " 'also',\n",
       " 'abandoned',\n",
       " 'diplomatic',\n",
       " 'protocol',\n",
       " 'rescued',\n",
       " ...]"
      ]
     },
     "execution_count": 181,
     "metadata": {},
     "output_type": "execute_result"
    }
   ],
   "source": [
    "tokenized_BP_nostopwords"
   ]
  },
  {
   "cell_type": "code",
   "execution_count": 182,
   "metadata": {},
   "outputs": [
    {
     "data": {
      "text/plain": [
       "Counter({'budapest': 263,\n",
       "         'hungarian': 89,\n",
       "         'pronunciation': 2,\n",
       "         'capital': 24,\n",
       "         'populous': 3,\n",
       "         'city': 152,\n",
       "         'hungary': 77,\n",
       "         'tenth': 1,\n",
       "         'largest': 27,\n",
       "         'european': 31,\n",
       "         'union': 3,\n",
       "         'population': 21,\n",
       "         'within': 14,\n",
       "         'limits': 4,\n",
       "         'estimated': 2,\n",
       "         'land': 2,\n",
       "         'area': 20,\n",
       "         'square': 45,\n",
       "         'kilometres': 17,\n",
       "         'miles': 7,\n",
       "         'county': 4,\n",
       "         'forms': 1,\n",
       "         'centre': 23,\n",
       "         'metropolitan': 7,\n",
       "         'comprising': 1,\n",
       "         'history': 9,\n",
       "         'began': 2,\n",
       "         'early': 9,\n",
       "         'celtic': 1,\n",
       "         'settlement': 4,\n",
       "         'transformed': 1,\n",
       "         'roman': 10,\n",
       "         'town': 2,\n",
       "         'aquincum': 9,\n",
       "         'lower': 2,\n",
       "         'pannonia': 3,\n",
       "         'hungarians': 8,\n",
       "         'arrived': 1,\n",
       "         'territory': 6,\n",
       "         'late': 8,\n",
       "         'century': 26,\n",
       "         'pillaged': 1,\n",
       "         'mongols': 1,\n",
       "         'buda': 60,\n",
       "         'settlements': 2,\n",
       "         'west': 6,\n",
       "         'bank': 10,\n",
       "         'river': 15,\n",
       "         'became': 10,\n",
       "         'centres': 4,\n",
       "         'renaissance': 8,\n",
       "         'humanist': 1,\n",
       "         'culture': 9,\n",
       "         'battle': 4,\n",
       "         'followed': 3,\n",
       "         'nearly': 6,\n",
       "         'years': 13,\n",
       "         'ottoman': 5,\n",
       "         'rule': 5,\n",
       "         'reconquest': 1,\n",
       "         'region': 9,\n",
       "         'entered': 2,\n",
       "         'prosperity': 2,\n",
       "         'pest': 32,\n",
       "         'global': 11,\n",
       "         'unification': 3,\n",
       "         'november': 5,\n",
       "         'name': 11,\n",
       "         'given': 2,\n",
       "         'also': 67,\n",
       "         'austro': 2,\n",
       "         'empire': 3,\n",
       "         'great': 10,\n",
       "         'power': 3,\n",
       "         'dissolved': 1,\n",
       "         'following': 4,\n",
       "         'world': 53,\n",
       "         'focal': 2,\n",
       "         'point': 7,\n",
       "         'revolution': 3,\n",
       "         'alpha': 2,\n",
       "         'strengths': 1,\n",
       "         'commerce': 2,\n",
       "         'finance': 5,\n",
       "         'media': 8,\n",
       "         'fashion': 13,\n",
       "         'research': 9,\n",
       "         'technology': 7,\n",
       "         'education': 7,\n",
       "         'entertainment': 5,\n",
       "         'financial': 6,\n",
       "         'ranked': 4,\n",
       "         'second': 12,\n",
       "         'fastest': 2,\n",
       "         'developing': 5,\n",
       "         'urban': 6,\n",
       "         'economy': 7,\n",
       "         'europe': 31,\n",
       "         'headquarters': 8,\n",
       "         'institute': 6,\n",
       "         'innovation': 6,\n",
       "         'police': 3,\n",
       "         'college': 1,\n",
       "         'first': 19,\n",
       "         'foreign': 4,\n",
       "         'office': 9,\n",
       "         'china': 2,\n",
       "         'investment': 2,\n",
       "         'promotion': 1,\n",
       "         'agency': 1,\n",
       "         'colleges': 1,\n",
       "         'universities': 5,\n",
       "         'located': 14,\n",
       "         'including': 16,\n",
       "         'university': 10,\n",
       "         'semmelweis': 1,\n",
       "         'economics': 2,\n",
       "         'opened': 5,\n",
       "         'subway': 2,\n",
       "         'system': 14,\n",
       "         'metro': 5,\n",
       "         'serves': 4,\n",
       "         'million': 14,\n",
       "         'tram': 4,\n",
       "         'network': 9,\n",
       "         'passengers': 3,\n",
       "         'daily': 2,\n",
       "         'among': 19,\n",
       "         'important': 13,\n",
       "         'museums': 8,\n",
       "         'cultural': 11,\n",
       "         'institutions': 7,\n",
       "         'museum': 16,\n",
       "         'fine': 5,\n",
       "         'arts': 16,\n",
       "         'famous': 8,\n",
       "         'national': 23,\n",
       "         'house': 11,\n",
       "         'terror': 3,\n",
       "         'franz': 3,\n",
       "         'liszt': 5,\n",
       "         'academy': 6,\n",
       "         'music': 8,\n",
       "         'state': 9,\n",
       "         'opera': 9,\n",
       "         'library': 11,\n",
       "         'central': 27,\n",
       "         'along': 9,\n",
       "         'danube': 25,\n",
       "         'classified': 2,\n",
       "         'unesco': 6,\n",
       "         'heritage': 5,\n",
       "         'site': 7,\n",
       "         'several': 14,\n",
       "         'notable': 6,\n",
       "         'monuments': 6,\n",
       "         'parliament': 11,\n",
       "         'castle': 17,\n",
       "         'fisherman': 2,\n",
       "         'bastion': 2,\n",
       "         'gresham': 3,\n",
       "         'palace': 16,\n",
       "         'chenyi': 8,\n",
       "         'chain': 9,\n",
       "         'bridge': 27,\n",
       "         'matthias': 5,\n",
       "         'church': 13,\n",
       "         'liberty': 8,\n",
       "         'statue': 4,\n",
       "         'landmarks': 3,\n",
       "         'include': 7,\n",
       "         'andr': 9,\n",
       "         'avenue': 8,\n",
       "         'stephen': 8,\n",
       "         'basilica': 4,\n",
       "         'heroes': 6,\n",
       "         'market': 2,\n",
       "         'hall': 6,\n",
       "         'nyugati': 2,\n",
       "         'railway': 12,\n",
       "         'station': 4,\n",
       "         'built': 21,\n",
       "         'eiffel': 2,\n",
       "         'company': 2,\n",
       "         'paris': 5,\n",
       "         'oldest': 4,\n",
       "         'line': 8,\n",
       "         'millennium': 5,\n",
       "         'underground': 5,\n",
       "         'around': 18,\n",
       "         'geothermal': 1,\n",
       "         'springs': 4,\n",
       "         'thermal': 5,\n",
       "         'water': 10,\n",
       "         'cave': 5,\n",
       "         'synagogue': 6,\n",
       "         'third': 7,\n",
       "         'building': 17,\n",
       "         'attracts': 1,\n",
       "         'international': 20,\n",
       "         'tourists': 3,\n",
       "         'year': 14,\n",
       "         'making': 5,\n",
       "         'popular': 6,\n",
       "         'destination': 1,\n",
       "         'etymology': 1,\n",
       "         'previously': 1,\n",
       "         'separate': 2,\n",
       "         'towns': 5,\n",
       "         'officially': 6,\n",
       "         'unified': 3,\n",
       "         'together': 2,\n",
       "         'sometimes': 3,\n",
       "         'referred': 3,\n",
       "         'colloquially': 2,\n",
       "         'used': 4,\n",
       "         'shortened': 1,\n",
       "         'varieties': 1,\n",
       "         'english': 6,\n",
       "         'pronounce': 1,\n",
       "         'word': 4,\n",
       "         'pronounced': 2,\n",
       "         'either': 2,\n",
       "         'like': 25,\n",
       "         'food': 6,\n",
       "         'wash': 1,\n",
       "         'listen': 1,\n",
       "         'origin': 4,\n",
       "         'names': 4,\n",
       "         'obscure': 1,\n",
       "         'probably': 1,\n",
       "         'constable': 1,\n",
       "         'fortress': 2,\n",
       "         'hill': 9,\n",
       "         'derivative': 2,\n",
       "         'personal': 2,\n",
       "         'turkic': 2,\n",
       "         'meaning': 1,\n",
       "         'twig': 2,\n",
       "         'slavic': 4,\n",
       "         'short': 2,\n",
       "         'form': 4,\n",
       "         'budim': 1,\n",
       "         'budivoj': 1,\n",
       "         'linguistically': 1,\n",
       "         'however': 5,\n",
       "         'german': 10,\n",
       "         'voda': 1,\n",
       "         'possible': 2,\n",
       "         'certainty': 1,\n",
       "         'really': 1,\n",
       "         'comes': 2,\n",
       "         'buta': 1,\n",
       "         'branch': 2,\n",
       "         'according': 7,\n",
       "         'legend': 1,\n",
       "         'recorded': 1,\n",
       "         'chronicles': 2,\n",
       "         'middle': 5,\n",
       "         'ages': 3,\n",
       "         'founder': 1,\n",
       "         'bleda': 1,\n",
       "         'brother': 1,\n",
       "         'hunnic': 1,\n",
       "         'ruler': 1,\n",
       "         'attila': 2,\n",
       "         'theories': 1,\n",
       "         'states': 2,\n",
       "         'derives': 1,\n",
       "         'times': 3,\n",
       "         'since': 10,\n",
       "         'local': 5,\n",
       "         'contra': 1,\n",
       "         'called': 5,\n",
       "         'ptolemaios': 1,\n",
       "         'pession': 1,\n",
       "         'another': 10,\n",
       "         'originates': 1,\n",
       "         'tera': 1,\n",
       "         'cites': 1,\n",
       "         'referencing': 1,\n",
       "         'fires': 1,\n",
       "         'burned': 1,\n",
       "         'limekiln': 1,\n",
       "         'celts': 1,\n",
       "         'later': 6,\n",
       "         'occupied': 4,\n",
       "         'romans': 3,\n",
       "         'main': 12,\n",
       "         'inferior': 1,\n",
       "         'military': 3,\n",
       "         'gradually': 2,\n",
       "         'rose': 1,\n",
       "         'commercial': 2,\n",
       "         'life': 3,\n",
       "         'today': 8,\n",
       "         'corresponds': 1,\n",
       "         'district': 41,\n",
       "         'constructed': 3,\n",
       "         'roads': 9,\n",
       "         'amphitheaters': 1,\n",
       "         'baths': 21,\n",
       "         'houses': 5,\n",
       "         'heated': 1,\n",
       "         'floors': 1,\n",
       "         'fortified': 1,\n",
       "         'camp': 1,\n",
       "         'best': 6,\n",
       "         'conserved': 1,\n",
       "         'sites': 4,\n",
       "         'archaeological': 1,\n",
       "         'turned': 2,\n",
       "         'inside': 2,\n",
       "         'open': 4,\n",
       "         'sections': 1,\n",
       "         'magyar': 3,\n",
       "         'tribes': 1,\n",
       "         'forced': 1,\n",
       "         'original': 6,\n",
       "         'homeland': 1,\n",
       "         'north': 12,\n",
       "         'bulgaria': 2,\n",
       "         'tsar': 1,\n",
       "         'simeon': 1,\n",
       "         'southern': 2,\n",
       "         'settled': 2,\n",
       "         'displacing': 1,\n",
       "         'founding': 1,\n",
       "         'bulgarian': 1,\n",
       "         'settlers': 1,\n",
       "         'founded': 3,\n",
       "         'kingdom': 2,\n",
       "         'places': 7,\n",
       "         'probable': 1,\n",
       "         'residence': 2,\n",
       "         'place': 15,\n",
       "         'near': 2,\n",
       "         'tatar': 1,\n",
       "         'invasion': 1,\n",
       "         'quickly': 1,\n",
       "         'proved': 1,\n",
       "         'difficult': 1,\n",
       "         'defend': 1,\n",
       "         'plain': 5,\n",
       "         'king': 6,\n",
       "         'therefore': 2,\n",
       "         'ordered': 2,\n",
       "         'construction': 5,\n",
       "         'reinforced': 1,\n",
       "         'stone': 2,\n",
       "         'walls': 1,\n",
       "         'royal': 4,\n",
       "         'protecting': 1,\n",
       "         'hills': 10,\n",
       "         'role': 3,\n",
       "         'particularly': 5,\n",
       "         'significant': 6,\n",
       "         'reign': 1,\n",
       "         'corvinus': 3,\n",
       "         'italian': 6,\n",
       "         'influence': 2,\n",
       "         'bibliotheca': 1,\n",
       "         'corviniana': 1,\n",
       "         'greatest': 3,\n",
       "         'collection': 4,\n",
       "         'historical': 7,\n",
       "         'philosophic': 1,\n",
       "         'scientific': 1,\n",
       "         'works': 2,\n",
       "         'size': 2,\n",
       "         'vatican': 1,\n",
       "         'foundation': 1,\n",
       "         'established': 4,\n",
       "         'book': 5,\n",
       "         'printed': 1,\n",
       "         'inhabitants': 5,\n",
       "         'ottomans': 1,\n",
       "         'conquered': 2,\n",
       "         'well': 21,\n",
       "         'finally': 3,\n",
       "         'turkish': 15,\n",
       "         'lasted': 2,\n",
       "         'turks': 6,\n",
       "         'many': 29,\n",
       "         'prominent': 3,\n",
       "         'bathing': 4,\n",
       "         'facilities': 4,\n",
       "         'erected': 2,\n",
       "         'still': 11,\n",
       "         'rudas': 3,\n",
       "         'number': 6,\n",
       "         'christians': 2,\n",
       "         'thousand': 1,\n",
       "         'fallen': 1,\n",
       "         'seventy': 1,\n",
       "         'unoccupied': 1,\n",
       "         'western': 5,\n",
       "         'part': 11,\n",
       "         'country': 13,\n",
       "         'habsburg': 1,\n",
       "         'monarchy': 2,\n",
       "         'unsuccessful': 1,\n",
       "         'siege': 2,\n",
       "         'renewed': 1,\n",
       "         'campaign': 1,\n",
       "         'started': 3,\n",
       "         'enter': 1,\n",
       "         'time': 12,\n",
       "         'holy': 3,\n",
       "         'league': 5,\n",
       "         'army': 2,\n",
       "         'twice': 2,\n",
       "         'large': 8,\n",
       "         'containing': 2,\n",
       "         'croat': 1,\n",
       "         'dutch': 3,\n",
       "         'spanish': 3,\n",
       "         'czech': 1,\n",
       "         'french': 6,\n",
       "         'burgundian': 1,\n",
       "         'danish': 1,\n",
       "         'swedish': 3,\n",
       "         'soldiers': 2,\n",
       "         'europeans': 1,\n",
       "         'volunteers': 1,\n",
       "         'artillerymen': 1,\n",
       "         'officers': 1,\n",
       "         'christian': 2,\n",
       "         'forces': 2,\n",
       "         'seized': 1,\n",
       "         'next': 5,\n",
       "         'former': 5,\n",
       "         'lands': 2,\n",
       "         'except': 1,\n",
       "         'areas': 6,\n",
       "         'temesv': 1,\n",
       "         'timi': 1,\n",
       "         'oara': 1,\n",
       "         'taken': 1,\n",
       "         'treaty': 2,\n",
       "         'karlowitz': 1,\n",
       "         'territorial': 2,\n",
       "         'changes': 6,\n",
       "         'recognized': 2,\n",
       "         'show': 2,\n",
       "         'entire': 2,\n",
       "         'removed': 3,\n",
       "         'contemporary': 8,\n",
       "         'dominated': 2,\n",
       "         'struggle': 1,\n",
       "         'independence': 1,\n",
       "         'modernisation': 1,\n",
       "         'insurrection': 1,\n",
       "         'habsburgs': 1,\n",
       "         'defeated': 1,\n",
       "         'half': 4,\n",
       "         'help': 2,\n",
       "         'russian': 2,\n",
       "         'reconciliation': 1,\n",
       "         'brought': 2,\n",
       "         'birth': 1,\n",
       "         'austria': 2,\n",
       "         'made': 3,\n",
       "         'twin': 1,\n",
       "         'dual': 1,\n",
       "         'compromise': 1,\n",
       "         'phase': 1,\n",
       "         'development': 12,\n",
       "         'lasting': 2,\n",
       "         'linking': 2,\n",
       "         'permanent': 1,\n",
       "         'across': 5,\n",
       "         'merged': 1,\n",
       "         'thus': 1,\n",
       "         'creating': 1,\n",
       "         'metropolis': 1,\n",
       "         'dynamic': 1,\n",
       "         'grew': 1,\n",
       "         'administrative': 3,\n",
       "         'political': 6,\n",
       "         'economic': 3,\n",
       "         'trade': 5,\n",
       "         'ethnic': 2,\n",
       "         'overtook': 1,\n",
       "         'germans': 4,\n",
       "         'mass': 2,\n",
       "         'migration': 5,\n",
       "         'overpopulated': 1,\n",
       "         'rural': 1,\n",
       "         'transdanubia': 2,\n",
       "         'proportion': 4,\n",
       "         'increased': 4,\n",
       "         'dominant': 2,\n",
       "         'language': 3,\n",
       "         'crowded': 1,\n",
       "         'jews': 8,\n",
       "         'peaked': 1,\n",
       "         'jewish': 6,\n",
       "         'community': 2,\n",
       "         'start': 5,\n",
       "         'often': 8,\n",
       "         'mecca': 2,\n",
       "         'judapest': 1,\n",
       "         'lost': 4,\n",
       "         'collapsed': 1,\n",
       "         'declared': 3,\n",
       "         'independent': 3,\n",
       "         'republic': 5,\n",
       "         'trianon': 1,\n",
       "         'partitioned': 1,\n",
       "         'result': 2,\n",
       "         'thirds': 3,\n",
       "         'partly': 2,\n",
       "         'destroyed': 7,\n",
       "         'british': 5,\n",
       "         'american': 2,\n",
       "         'raids': 1,\n",
       "         'attack': 1,\n",
       "         'april': 3,\n",
       "         'december': 4,\n",
       "         'february': 4,\n",
       "         'besieged': 1,\n",
       "         'suffered': 1,\n",
       "         'major': 11,\n",
       "         'damage': 2,\n",
       "         'caused': 2,\n",
       "         'attacking': 1,\n",
       "         'soviet': 5,\n",
       "         'romanian': 1,\n",
       "         'troops': 4,\n",
       "         'defending': 1,\n",
       "         'civilians': 1,\n",
       "         'lives': 2,\n",
       "         'conflict': 1,\n",
       "         'bridges': 5,\n",
       "         'lions': 1,\n",
       "         'decorated': 2,\n",
       "         'survived': 1,\n",
       "         'devastation': 1,\n",
       "         'greater': 3,\n",
       "         'died': 1,\n",
       "         'nazi': 3,\n",
       "         'arrow': 1,\n",
       "         'cross': 7,\n",
       "         'party': 4,\n",
       "         'occupation': 4,\n",
       "         'swiss': 3,\n",
       "         'diplomat': 3,\n",
       "         'carl': 2,\n",
       "         'lutz': 2,\n",
       "         'rescued': 2,\n",
       "         'tens': 2,\n",
       "         'thousands': 7,\n",
       "         'issuing': 1,\n",
       "         'protection': 5,\n",
       "         'papers': 2,\n",
       "         'designating': 1,\n",
       "         'numerous': 4,\n",
       "         'buildings': 26,\n",
       "         'glass': 3,\n",
       "         'vegh': 1,\n",
       "         'street': 13,\n",
       "         'protected': 2,\n",
       "         'found': 10,\n",
       "         'refuge': 1,\n",
       "         'neighboring': 1,\n",
       "         'raoul': 1,\n",
       "         'wallenberg': 3,\n",
       "         'saved': 2,\n",
       "         'giving': 2,\n",
       "         'taking': 4,\n",
       "         'consular': 1,\n",
       "         'abducted': 1,\n",
       "         'russians': 1,\n",
       "         'january': 2,\n",
       "         'never': 1,\n",
       "         'regained': 1,\n",
       "         'freedom': 1,\n",
       "         'giorgio': 2,\n",
       "         'perlasca': 2,\n",
       "         'citizen': 1,\n",
       "         'posing': 1,\n",
       "         'diplomats': 1,\n",
       "         'abandoned': 1,\n",
       "         'diplomatic': 1,\n",
       "         'protocol': 2,\n",
       "         'liberation': 1,\n",
       "         'germany': 3,\n",
       "         'ensued': 1,\n",
       "         'ended': 1,\n",
       "         'soviets': 1,\n",
       "         'exerted': 1,\n",
       "         'affairs': 1,\n",
       "         'communist': 5,\n",
       "         'people': 27,\n",
       "         'government': 11,\n",
       "         'considered': 2,\n",
       "         'symbols': 2,\n",
       "         'regime': 3,\n",
       "         'gutted': 1,\n",
       "         'interiors': 1,\n",
       "         'stalin': 1,\n",
       "         'october': 6,\n",
       "         'citizens': 2,\n",
       "         'held': 7,\n",
       "         'peaceful': 1,\n",
       "         'demonstration': 1,\n",
       "         'demanding': 1,\n",
       "         'democratic': 2,\n",
       "         'reform': 1,\n",
       "         'demonstrators': 3,\n",
       "         'went': 1,\n",
       "         'radio': 2,\n",
       "         'demanded': 2,\n",
       "         'publish': 1,\n",
       "         'demands': 1,\n",
       "         'shoot': 1,\n",
       "         'crowd': 1,\n",
       "         'gave': 1,\n",
       "         'rifles': 1,\n",
       "         'able': 1,\n",
       "         'capture': 1,\n",
       "         'initiated': 1,\n",
       "         'appoint': 1,\n",
       "         'imre': 1,\n",
       "         'nagy': 2,\n",
       "         'prime': 2,\n",
       "         'minister': 2,\n",
       "         'surprise': 1,\n",
       "         'committee': 2,\n",
       "         'working': 1,\n",
       "         'evening': 1,\n",
       "         'uprising': 1,\n",
       "         'anti': 1,\n",
       "         'revolt': 3,\n",
       "         'leave': 1,\n",
       "         'warsaw': 2,\n",
       "         'pact': 1,\n",
       "         'become': 2,\n",
       "         'neutral': 1,\n",
       "         'tanks': 1,\n",
       "         'crush': 1,\n",
       "         'fighting': 1,\n",
       "         'continued': 1,\n",
       "         'leaving': 1,\n",
       "         'dead': 1,\n",
       "         'monument': 4,\n",
       "         'fiftieth': 1,\n",
       "         'anniversary': 1,\n",
       "         'edge': 2,\n",
       "         'park': 14,\n",
       "         'shape': 2,\n",
       "         'wedge': 1,\n",
       "         'angle': 1,\n",
       "         'degree': 1,\n",
       "         'rusted': 1,\n",
       "         'iron': 2,\n",
       "         'becomes': 1,\n",
       "         'shiny': 1,\n",
       "         'ending': 1,\n",
       "         'intersection': 1,\n",
       "         'symbolize': 1,\n",
       "         'temporarily': 1,\n",
       "         'eradicated': 1,\n",
       "         'leadership': 1,\n",
       "         'satirically': 1,\n",
       "         'happiest': 1,\n",
       "         'barrack': 1,\n",
       "         'eastern': 12,\n",
       "         'bloc': 1,\n",
       "         'much': 5,\n",
       "         'wartime': 1,\n",
       "         'repaired': 1,\n",
       "         'work': 3,\n",
       "         'erzs': 2,\n",
       "         'last': 6,\n",
       "         'rebuilt': 5,\n",
       "         'finished': 4,\n",
       "         'east': 9,\n",
       "         'banks': 4,\n",
       "         'included': 1,\n",
       "         'list': 8,\n",
       "         'tere': 1,\n",
       "         'rosliget': 1,\n",
       "         'added': 2,\n",
       "         'reached': 1,\n",
       "         'recent': 4,\n",
       "         'decrease': 2,\n",
       "         'occurred': 1,\n",
       "         'mainly': 2,\n",
       "         'massive': 1,\n",
       "         'movement': 1,\n",
       "         'neighbouring': 2,\n",
       "         'agglomeration': 2,\n",
       "         'suburbanisation': 1,\n",
       "         'decades': 1,\n",
       "         'fall': 1,\n",
       "         'curtain': 1,\n",
       "         'concealed': 1,\n",
       "         'civil': 3,\n",
       "         'society': 2,\n",
       "         'streets': 5,\n",
       "         'dictatorship': 1,\n",
       "         'public': 26,\n",
       "         'memento': 2,\n",
       "         'democracy': 1,\n",
       "         'managed': 1,\n",
       "         'mayor': 13,\n",
       "         'demszky': 1,\n",
       "         'geography': 1,\n",
       "         'topography': 1,\n",
       "         'strategically': 1,\n",
       "         'placed': 2,\n",
       "         'carpathian': 4,\n",
       "         'basin': 5,\n",
       "         'lies': 8,\n",
       "         'ancient': 5,\n",
       "         'route': 5,\n",
       "         'road': 9,\n",
       "         'south': 8,\n",
       "         'vienna': 2,\n",
       "         'moscow': 2,\n",
       "         'athens': 1,\n",
       "         'milan': 1,\n",
       "         'prague': 3,\n",
       "         'surrounded': 1,\n",
       "         'extends': 1,\n",
       "         'direction': 1,\n",
       "         'respectively': 3,\n",
       "         'enters': 1,\n",
       "         'encircles': 1,\n",
       "         'islands': 6,\n",
       "         'island': 36,\n",
       "         'margaret': 9,\n",
       "         'csepel': 7,\n",
       "         'northernmost': 3,\n",
       "         'separates': 2,\n",
       "         'parts': 5,\n",
       "         'wide': 6,\n",
       "         'narrowest': 1,\n",
       "         'flat': 2,\n",
       "         'terrain': 2,\n",
       "         'rather': 1,\n",
       "         'hilly': 1,\n",
       "         'always': 2,\n",
       "         'fordable': 1,\n",
       "         'small': 4,\n",
       "         'marked': 2,\n",
       "         'topographical': 1,\n",
       "         'contrasts': 1,\n",
       "         'higher': 5,\n",
       "         'terraces': 2,\n",
       "         'side': 10,\n",
       "         'considerably': 1,\n",
       "         'larger': 3,\n",
       "         'spreads': 1,\n",
       "         'featureless': 1,\n",
       "         'sand': 1,\n",
       "         'opposite': 1,\n",
       "         'rises': 1,\n",
       "         'slight': 1,\n",
       "         'eastward': 1,\n",
       "         'gradient': 1,\n",
       "         'easternmost': 1,\n",
       "         'altitude': 1,\n",
       "         'smallest': 1,\n",
       "         'notably': 2,\n",
       "         'gell': 5,\n",
       "         'consist': 2,\n",
       "         'limestone': 1,\n",
       "         'dolomite': 1,\n",
       "         'created': 4,\n",
       "         'speleothems': 1,\n",
       "         'ones': 3,\n",
       "         'lgyi': 1,\n",
       "         'total': 5,\n",
       "         'length': 5,\n",
       "         'szeml': 1,\n",
       "         'hegyi': 1,\n",
       "         'formed': 2,\n",
       "         'triassic': 1,\n",
       "         'period': 5,\n",
       "         'highest': 11,\n",
       "         'metres': 5,\n",
       "         'feet': 2,\n",
       "         'level': 10,\n",
       "         'lowest': 2,\n",
       "         'rich': 2,\n",
       "         'green': 3,\n",
       "         'forest': 2,\n",
       "         'forests': 1,\n",
       "         'environmentally': 1,\n",
       "         'importance': 2,\n",
       "         'terms': 3,\n",
       "         'traffic': 14,\n",
       "         'lines': 12,\n",
       "         'lead': 2,\n",
       "         'routes': 4,\n",
       "         'three': 10,\n",
       "         'cities': 24,\n",
       "         'reykjav': 1,\n",
       "         'iceland': 1,\n",
       "         'sofia': 1,\n",
       "         'produce': 2,\n",
       "         'litres': 1,\n",
       "         'imperial': 1,\n",
       "         'gallons': 2,\n",
       "         'temperatures': 4,\n",
       "         'ranging': 1,\n",
       "         'celsius': 2,\n",
       "         'waters': 2,\n",
       "         'medicinal': 6,\n",
       "         'effects': 1,\n",
       "         'medically': 1,\n",
       "         'valuable': 1,\n",
       "         'mineral': 1,\n",
       "         'contents': 1,\n",
       "         'climate': 8,\n",
       "         'humid': 3,\n",
       "         'subtropical': 1,\n",
       "         'known': 11,\n",
       "         'mild': 3,\n",
       "         'temperate': 2,\n",
       "         'ppen': 2,\n",
       "         'classification': 2,\n",
       "         'bordering': 1,\n",
       "         'warm': 5,\n",
       "         'summer': 13,\n",
       "         'versions': 1,\n",
       "         'continental': 4,\n",
       "         'degrees': 1,\n",
       "         'isotherm': 1,\n",
       "         'applied': 3,\n",
       "         'shift': 1,\n",
       "         'reflects': 1,\n",
       "         'warming': 1,\n",
       "         'relatively': 3,\n",
       "         'cold': 2,\n",
       "         'winters': 1,\n",
       "         'summers': 1,\n",
       "         'spring': 3,\n",
       "         'autumn': 3,\n",
       "         'generally': 2,\n",
       "         'winter': 4,\n",
       "         'march': 5,\n",
       "         'receives': 1,\n",
       "         'little': 2,\n",
       "         'sunshine': 4,\n",
       "         'snowfall': 2,\n",
       "         'fairly': 1,\n",
       "         'frequent': 1,\n",
       "         'nighttime': 1,\n",
       "         'uncommon': 1,\n",
       "         'months': 2,\n",
       "         'variable': 1,\n",
       "         'conditions': 1,\n",
       "         'rapid': 1,\n",
       "         'increase': 3,\n",
       "         'average': 7,\n",
       "         'temperature': 1,\n",
       "         'weather': 1,\n",
       "         'agreeable': 1,\n",
       "         'fresh': 1,\n",
       "         'night': 5,\n",
       "         'long': 7,\n",
       "         'september': 2,\n",
       "         'sudden': 1,\n",
       "         'heavy': 2,\n",
       "         'showers': 1,\n",
       "         'occur': 1,\n",
       "         'june': 1,\n",
       "         'characterised': 1,\n",
       "         'rain': 1,\n",
       "         'sunny': 1,\n",
       "         'days': 3,\n",
       "         'moderate': 1,\n",
       "         'turn': 2,\n",
       "         'abruptly': 1,\n",
       "         'colder': 1,\n",
       "         'mean': 1,\n",
       "         'annual': 4,\n",
       "         'precipitation': 2,\n",
       "         'inches': 1,\n",
       "         'hours': 2,\n",
       "         'totals': 1,\n",
       "         'roughly': 1,\n",
       "         'equal': 1,\n",
       "         'seen': 3,\n",
       "         'northern': 5,\n",
       "         'italy': 1,\n",
       "         'venice': 1,\n",
       "         'boundary': 2,\n",
       "         'zone': 3,\n",
       "         'hardiness': 1,\n",
       "         'architecture': 22,\n",
       "         'architecturally': 1,\n",
       "         'noteworthy': 2,\n",
       "         'range': 4,\n",
       "         'styles': 4,\n",
       "         'distinct': 2,\n",
       "         'periods': 2,\n",
       "         'dates': 3,\n",
       "         'modern': 7,\n",
       "         'concert': 4,\n",
       "         'high': 7,\n",
       "         'rise': 3,\n",
       "         'kept': 1,\n",
       "         'legislation': 1,\n",
       "         'aimed': 2,\n",
       "         'preserving': 2,\n",
       "         'historic': 7,\n",
       "         'cityscape': 2,\n",
       "         'meet': 2,\n",
       "         'requirements': 1,\n",
       "         'strong': 4,\n",
       "         'rules': 2,\n",
       "         'apply': 1,\n",
       "         'planning': 5,\n",
       "         'authorisation': 1,\n",
       "         'consequently': 1,\n",
       "         'inner': 7,\n",
       "         'planners': 1,\n",
       "         'would': 1,\n",
       "         'easing': 1,\n",
       "         'skyscrapers': 2,\n",
       "         'possibility': 1,\n",
       "         'outside': 6,\n",
       "         'core': 1,\n",
       "         'raised': 1,\n",
       "         'chronological': 1,\n",
       "         'order': 3,\n",
       "         'architectural': 2,\n",
       "         'represents': 2,\n",
       "         'timeline': 2,\n",
       "         'determinative': 1,\n",
       "         'style': 18,\n",
       "         'gothic': 10,\n",
       "         'remaining': 2,\n",
       "         'note': 1,\n",
       "         'orsz': 1,\n",
       "         'date': 2,\n",
       "         'back': 3,\n",
       "         'remains': 2,\n",
       "         'parish': 2,\n",
       "         'mary': 1,\n",
       "         'magdalene': 1,\n",
       "         'completed': 6,\n",
       "         'characteristic': 1,\n",
       "         'actually': 1,\n",
       "         'material': 1,\n",
       "         'originally': 2,\n",
       "         'romanesque': 1,\n",
       "         'chapter': 1,\n",
       "         'human': 1,\n",
       "         'earliest': 1,\n",
       "         'influenced': 3,\n",
       "         'particular': 1,\n",
       "         'appeared': 1,\n",
       "         'marriage': 1,\n",
       "         'beatrice': 1,\n",
       "         'naples': 1,\n",
       "         'artists': 4,\n",
       "         'craftsmen': 1,\n",
       "         'masons': 1,\n",
       "         'came': 3,\n",
       "         'queen': 2,\n",
       "         'disappeared': 1,\n",
       "         'varied': 1,\n",
       "         'sciences': 3,\n",
       "         'islamic': 6,\n",
       "         'flourished': 1,\n",
       "         'multiple': 1,\n",
       "         'mosques': 3,\n",
       "         'examples': 5,\n",
       "         'muslims': 2,\n",
       "         'iranian': 1,\n",
       "         'arabian': 1,\n",
       "         'extent': 2,\n",
       "         'byzantine': 1,\n",
       "         'traditions': 2,\n",
       "         'replaced': 3,\n",
       "         'churches': 2,\n",
       "         'minarets': 1,\n",
       "         'bell': 1,\n",
       "         'towers': 1,\n",
       "         'cathedral': 1,\n",
       "         'spires': 1,\n",
       "         'sloping': 1,\n",
       "         'bustling': 1,\n",
       "         'oriental': 1,\n",
       "         'bazaar': 1,\n",
       "         'filled': 1,\n",
       "         'chatter': 1,\n",
       "         'camel': 1,\n",
       "         'caravans': 1,\n",
       "         'yemen': 1,\n",
       "         'india': 1,\n",
       "         'fact': 1,\n",
       "         'functioning': 1,\n",
       "         'bathhouses': 1,\n",
       "         ...})"
      ]
     },
     "execution_count": 182,
     "metadata": {},
     "output_type": "execute_result"
    }
   ],
   "source": [
    "from collections import Counter\n",
    "\n",
    "dict_BP=Counter(tokenized_BP_nostopwords)\n",
    "dict_BP"
   ]
  },
  {
   "cell_type": "code",
   "execution_count": 183,
   "metadata": {},
   "outputs": [],
   "source": [
    "import matplotlib.pyplot as plt\n",
    "from wordcloud import WordCloud"
   ]
  },
  {
   "cell_type": "code",
   "execution_count": 192,
   "metadata": {},
   "outputs": [
    {
     "data": {
      "text/plain": [
       "<matplotlib.image.AxesImage at 0x7f88a09b1080>"
      ]
     },
     "execution_count": 192,
     "metadata": {},
     "output_type": "execute_result"
    },
    {
     "data": {
      "image/png": "[encoded data removed]",
      "text/plain": [
       "<Figure size 432x288 with 1 Axes>"
      ]
     },
     "metadata": {
      "needs_background": "light"
     },
     "output_type": "display_data"
    }
   ],
   "source": [
    "wc = WordCloud(background_color=\"white\", width=1500,height=1500,\n",
    "               max_words=10,relative_scaling=0.3, \n",
    "               normalize_plurals=True).generate_from_frequencies(dict_BP)\n",
    "plt.imshow(wc)"
   ]
  },
  {
   "cell_type": "code",
   "execution_count": 197,
   "metadata": {},
   "outputs": [],
   "source": [
    "#write the dictionary in a text file\n",
    "Write_BP=open('../Output/Budapest_counter_freq.txt', 'w') \n",
    "Write_BP.write('word' +\";\" +\"frequency\"+\"\\n\")\n",
    "for key, value in Counter(dict_BP).items():\n",
    "    Write_BP.write(key + ';' + str(value) + '\\n')\n",
    "Write_BP.close()"
   ]
  },
  {
   "cell_type": "code",
   "execution_count": 209,
   "metadata": {},
   "outputs": [
    {
     "data": {
      "text/plain": [
       "'/Users/ariedamuco'"
      ]
     },
     "execution_count": 209,
     "metadata": {},
     "output_type": "execute_result"
    }
   ],
   "source": [
    "pwd"
   ]
  },
  {
   "cell_type": "code",
   "execution_count": 215,
   "metadata": {},
   "outputs": [],
   "source": [
    "path1=\"/Dropbox (CEU Econ)/TextAnalysisCEU/Input\""
   ]
  },
  {
   "cell_type": "code",
   "execution_count": 216,
   "metadata": {},
   "outputs": [],
   "source": [
    "path='/Users/ariedamuco'"
   ]
  },
  {
   "cell_type": "code",
   "execution_count": 217,
   "metadata": {},
   "outputs": [],
   "source": [
    "full_path=path+path1"
   ]
  },
  {
   "cell_type": "code",
   "execution_count": 218,
   "metadata": {},
   "outputs": [
    {
     "data": {
      "text/plain": [
       "'/Users/ariedamuco/Dropbox (CEU Econ)/TextAnalysisCEU/Input'"
      ]
     },
     "execution_count": 218,
     "metadata": {},
     "output_type": "execute_result"
    }
   ],
   "source": [
    "full_path"
   ]
  },
  {
   "cell_type": "code",
   "execution_count": 219,
   "metadata": {},
   "outputs": [
    {
     "data": {
      "text/plain": [
       "'/Users/ariedamuco'"
      ]
     },
     "execution_count": 219,
     "metadata": {},
     "output_type": "execute_result"
    }
   ],
   "source": [
    "pwd"
   ]
  },
  {
   "cell_type": "code",
   "execution_count": 220,
   "metadata": {},
   "outputs": [],
   "source": [
    "os.chdir(full_path)"
   ]
  },
  {
   "cell_type": "code",
   "execution_count": 221,
   "metadata": {},
   "outputs": [
    {
     "data": {
      "text/plain": [
       "'/Users/ariedamuco/Dropbox (CEU Econ)/TextAnalysisCEU/Input'"
      ]
     },
     "execution_count": 221,
     "metadata": {},
     "output_type": "execute_result"
    }
   ],
   "source": [
    "pwd"
   ]
  },
  {
   "cell_type": "code",
   "execution_count": 222,
   "metadata": {},
   "outputs": [],
   "source": [
    "os.chdir(\"../\")"
   ]
  },
  {
   "cell_type": "code",
   "execution_count": 223,
   "metadata": {},
   "outputs": [
    {
     "data": {
      "text/plain": [
       "'/Users/ariedamuco/Dropbox (CEU Econ)/TextAnalysisCEU'"
      ]
     },
     "execution_count": 223,
     "metadata": {},
     "output_type": "execute_result"
    }
   ],
   "source": [
    "pwd"
   ]
  },
  {
   "cell_type": "code",
   "execution_count": 224,
   "metadata": {},
   "outputs": [],
   "source": [
    "os.chdir(\"../..\")"
   ]
  },
  {
   "cell_type": "code",
   "execution_count": 225,
   "metadata": {},
   "outputs": [
    {
     "data": {
      "text/plain": [
       "'/Users/ariedamuco'"
      ]
     },
     "execution_count": 225,
     "metadata": {},
     "output_type": "execute_result"
    }
   ],
   "source": [
    "pwd"
   ]
  },
  {
   "cell_type": "code",
   "execution_count": 226,
   "metadata": {},
   "outputs": [],
   "source": [
    "os.chdir(\"Dropbox (CEU Econ)/TextAnalysisCEU/Output\")"
   ]
  },
  {
   "cell_type": "code",
   "execution_count": 227,
   "metadata": {},
   "outputs": [
    {
     "data": {
      "text/plain": [
       "'/Users/ariedamuco/Dropbox (CEU Econ)/TextAnalysisCEU/Output'"
      ]
     },
     "execution_count": 227,
     "metadata": {},
     "output_type": "execute_result"
    }
   ],
   "source": [
    "pwd"
   ]
  },
  {
   "cell_type": "code",
   "execution_count": 228,
   "metadata": {},
   "outputs": [
    {
     "data": {
      "text/plain": [
       "['MyFirstFile.txt',\n",
       " '.DS_Store',\n",
       " 'first_file.txt',\n",
       " 'Budapest_counter_freq.txt',\n",
       " 'greatest_hits.csv',\n",
       " 'AEJ_combined.pdf',\n",
       " 'AEJ_health_abstract.pdf',\n",
       " 'Figures']"
      ]
     },
     "execution_count": 228,
     "metadata": {},
     "output_type": "execute_result"
    }
   ],
   "source": [
    "os.listdir()"
   ]
  },
  {
   "cell_type": "code",
   "execution_count": 229,
   "metadata": {},
   "outputs": [
    {
     "name": "stdout",
     "output_type": "stream",
     "text": [
      "MyFirstFile.txt\n",
      "first_file.txt\n",
      "Budapest_counter_freq.txt\n"
     ]
    }
   ],
   "source": [
    "for element in os.listdir():\n",
    "    if \".txt\" in element:\n",
    "        print(element)"
   ]
  },
  {
   "cell_type": "code",
   "execution_count": 230,
   "metadata": {},
   "outputs": [],
   "source": [
    "import PyPDF2"
   ]
  },
  {
   "cell_type": "code",
   "execution_count": 231,
   "metadata": {},
   "outputs": [
    {
     "data": {
      "text/plain": [
       "'/Users/ariedamuco/Dropbox (CEU Econ)/TextAnalysisCEU/Output'"
      ]
     },
     "execution_count": 231,
     "metadata": {},
     "output_type": "execute_result"
    }
   ],
   "source": [
    "pwd"
   ]
  },
  {
   "cell_type": "code",
   "execution_count": 232,
   "metadata": {},
   "outputs": [],
   "source": [
    "os.chdir(\"../Input\")"
   ]
  },
  {
   "cell_type": "code",
   "execution_count": 233,
   "metadata": {},
   "outputs": [
    {
     "data": {
      "text/plain": [
       "'/Users/ariedamuco/Dropbox (CEU Econ)/TextAnalysisCEU/Input'"
      ]
     },
     "execution_count": 233,
     "metadata": {},
     "output_type": "execute_result"
    }
   ],
   "source": [
    "pwd"
   ]
  },
  {
   "cell_type": "code",
   "execution_count": 235,
   "metadata": {},
   "outputs": [],
   "source": [
    "AEJ_health=open('pdfs/app20170295.pdf', \"rb\") #read binary"
   ]
  },
  {
   "cell_type": "code",
   "execution_count": 236,
   "metadata": {},
   "outputs": [
    {
     "data": {
      "text/plain": [
       "<_io.BufferedReader name='pdfs/app20170295.pdf'>"
      ]
     },
     "execution_count": 236,
     "metadata": {},
     "output_type": "execute_result"
    }
   ],
   "source": [
    "AEJ_health"
   ]
  },
  {
   "cell_type": "code",
   "execution_count": 237,
   "metadata": {},
   "outputs": [],
   "source": [
    "reader_health=PyPDF2.PdfFileReader(open('pdfs/app20170295.pdf', \"rb\"))"
   ]
  },
  {
   "cell_type": "code",
   "execution_count": 238,
   "metadata": {},
   "outputs": [
    {
     "data": {
      "text/plain": [
       "<PyPDF2.pdf.PdfFileReader at 0x7f88a0a4bfd0>"
      ]
     },
     "execution_count": 238,
     "metadata": {},
     "output_type": "execute_result"
    }
   ],
   "source": [
    "reader_health"
   ]
  },
  {
   "cell_type": "code",
   "execution_count": 240,
   "metadata": {},
   "outputs": [
    {
     "data": {
      "text/plain": [
       "31"
      ]
     },
     "execution_count": 240,
     "metadata": {},
     "output_type": "execute_result"
    }
   ],
   "source": [
    "reader_health.numPages"
   ]
  },
  {
   "cell_type": "code",
   "execution_count": 243,
   "metadata": {},
   "outputs": [],
   "source": [
    "page1=reader_health.getPage(0)"
   ]
  },
  {
   "cell_type": "code",
   "execution_count": 244,
   "metadata": {},
   "outputs": [
    {
     "data": {
      "text/plain": [
       "'American Economic Journal: Applied Economics 2019, 11(2): 302Œ332\\n https://doi.org/10.1257/app.20170295\\n302* Curto: Department of Health Policy and Management, T.H. Chan School of Public Health, Harvard University, \\n677 Huntington Avenue, Boston, MA 02115-6028 \\n(email: vcurto@hsph.harvard.edu); Einav: Department of \\nEconomics, Stanford University, 579 Serra Mall, Stanford, CA 94305-6072 \\n(email: leinav@stanford.edu) and \\nNBER; Finkelstein: Department of Economics, MIT, 50 Memorial Drive, Cambridge, MA 02142-1347 \\n(email: \\nafink@mit.edu) and NBER; Levin: Graduate School of Business, Stanford University, 655 Knight Way, Stanford, \\n\\nCA 94305-7298 \\n(email: jdlevin@stanford.edu\\n) and NBER; Bhattacharya: School of Medicine, Stanford University, \\n616 Serra Street, Stanford, CA 94305-6019 (email: jay@stanford.edu). Ilyana Kuziemko was coeditor for this \\n\\narticle. We are grateful to Diego Jimenez, Andelyn Russell, Daniel Salmon, and Martina Uccioli for excellent \\n\\nresearch assistance. We thank three anonymous referees and numerous seminar participants for helpful comments. \\n\\nWe gratefully acknowledge support from the NSF \\n(SES-1527942, Bhattacharya, Einav, and Levin\\n), the NIA (R01 \\nAG032449, Einav and Finkelstein; R37 AG036791, Bhattacharya\\n), and the Sloan Foundation \\n(Bhattacharya, Einav, \\nFinkelstein, and Levin\\n). The authors acknowledge the assistance of the Health Care Cost Institute \\n(HCCI) and its \\ndata contributors, Aetna, Humana, and UnitedHealthcare, in providing the claims data analyzed in this study. \\nƒ Go to https://doi.org/10.1257/app.20170295 to visit the article page for additional materials and author \\n disclosure statements or to comment in the online discussion forum.Health Care Spending and Utilization \\n in Public and Private Medicare\\nƒBy V˜˚˛˝ C˙ˆˇ˘˝, , \\n ˝ˇˇ˝˝*\\nWe compare health care spending in public and private Medicare \\nusing newly available claims data from Medicare Advantage \\n(MA) \\ninsurers. MA insurer revenues are \\n30 percent higher than their health \\n\\ncare spending. Adjusting for enrollee mix\\n, health care spending per \\n\\nenrollee in MA is \\n9 to \\n30 percent lower than in Traditional Medicare \\n(TM), depending on the way we de˜ne ﬁcomparableﬂ enrollees. \\nSpending differences primarily re˚ect differences in health care uti\\n-lization, with similar reductions for ﬁhigh-valueﬂ and ﬁlow-valueﬂ \\n\\ncare\\n, rather than health care prices. We present evidence consistent \\n\\nwith MA plans encouraging substitution to less expensive care and \\n\\nengaging in utilization management. \\n(JEL G22, H44, H51, I11, I13)A  long-standing question in economics concerns the appropriate roles of the public sector and private sector in providing services that society has decided \\nare essential. This question comes up in many contexts, including education, utili\\n-ties, transportation, and pensions. It is especially relevant in health care, where the \\nUnited States is unusual among developed countries in its distinctive mix of public \\n\\nand private health insurance. Comparisons of public and private health insurance \\n\\nsystems are difwever, since they typically do not operate at a similar scale, \\n\\nfor the same population, in the same markets, or with the same health care providers.\\nThe US Medicare program in recent years has been an exception because of the \\nﬁside by sideﬂ operation of public and private insurance programs. While Traditional \\n\\nMedicare (TM) of\\n'"
      ]
     },
     "execution_count": 244,
     "metadata": {},
     "output_type": "execute_result"
    }
   ],
   "source": [
    "page1.extractText()"
   ]
  },
  {
   "cell_type": "code",
   "execution_count": 247,
   "metadata": {},
   "outputs": [],
   "source": [
    "import pandas as pd"
   ]
  },
  {
   "cell_type": "code",
   "execution_count": 257,
   "metadata": {},
   "outputs": [],
   "source": [
    "data=pd.read_csv(\"/Users/ariedamuco/Dropbox (CEU Econ)/TextAnalysisCEU/Output/Budapest_counter_freq.txt\", delimiter=\";\")"
   ]
  },
  {
   "cell_type": "code",
   "execution_count": 256,
   "metadata": {},
   "outputs": [
    {
     "data": {
      "text/plain": [
       "'/Users/ariedamuco/Dropbox (CEU Econ)/TextAnalysisCEU/Input'"
      ]
     },
     "execution_count": 256,
     "metadata": {},
     "output_type": "execute_result"
    }
   ],
   "source": [
    "pwd"
   ]
  },
  {
   "cell_type": "code",
   "execution_count": 258,
   "metadata": {},
   "outputs": [
    {
     "data": {
      "text/html": [
       "<div>\n",
       "<style scoped>\n",
       "    .dataframe tbody tr th:only-of-type {\n",
       "        vertical-align: middle;\n",
       "    }\n",
       "\n",
       "    .dataframe tbody tr th {\n",
       "        vertical-align: top;\n",
       "    }\n",
       "\n",
       "    .dataframe thead th {\n",
       "        text-align: right;\n",
       "    }\n",
       "</style>\n",
       "<table border=\"1\" class=\"dataframe\">\n",
       "  <thead>\n",
       "    <tr style=\"text-align: right;\">\n",
       "      <th></th>\n",
       "      <th>word</th>\n",
       "      <th>frequency</th>\n",
       "    </tr>\n",
       "  </thead>\n",
       "  <tbody>\n",
       "    <tr>\n",
       "      <td>2686</td>\n",
       "      <td>boston</td>\n",
       "      <td>1</td>\n",
       "    </tr>\n",
       "    <tr>\n",
       "      <td>2687</td>\n",
       "      <td>massachusetts</td>\n",
       "      <td>1</td>\n",
       "    </tr>\n",
       "    <tr>\n",
       "      <td>2688</td>\n",
       "      <td>https</td>\n",
       "      <td>1</td>\n",
       "    </tr>\n",
       "    <tr>\n",
       "      <td>2689</td>\n",
       "      <td>lonelyplanet</td>\n",
       "      <td>1</td>\n",
       "    </tr>\n",
       "    <tr>\n",
       "      <td>2690</td>\n",
       "      <td>links</td>\n",
       "      <td>1</td>\n",
       "    </tr>\n",
       "    <tr>\n",
       "      <td>2691</td>\n",
       "      <td>website</td>\n",
       "      <td>2</td>\n",
       "    </tr>\n",
       "    <tr>\n",
       "      <td>2692</td>\n",
       "      <td>tourist</td>\n",
       "      <td>1</td>\n",
       "    </tr>\n",
       "    <tr>\n",
       "      <td>2693</td>\n",
       "      <td>visitbudapest</td>\n",
       "      <td>1</td>\n",
       "    </tr>\n",
       "    <tr>\n",
       "      <td>2694</td>\n",
       "      <td>portal</td>\n",
       "      <td>1</td>\n",
       "    </tr>\n",
       "    <tr>\n",
       "      <td>2695</td>\n",
       "      <td>jewishgen</td>\n",
       "      <td>1</td>\n",
       "    </tr>\n",
       "  </tbody>\n",
       "</table>\n",
       "</div>"
      ],
      "text/plain": [
       "               word  frequency\n",
       "2686         boston          1\n",
       "2687  massachusetts          1\n",
       "2688          https          1\n",
       "2689   lonelyplanet          1\n",
       "2690          links          1\n",
       "2691        website          2\n",
       "2692        tourist          1\n",
       "2693  visitbudapest          1\n",
       "2694         portal          1\n",
       "2695      jewishgen          1"
      ]
     },
     "execution_count": 258,
     "metadata": {},
     "output_type": "execute_result"
    }
   ],
   "source": [
    "data.tail(10)"
   ]
  },
  {
   "cell_type": "code",
   "execution_count": 259,
   "metadata": {},
   "outputs": [],
   "source": [
    "number_one=pd.read_html(\"https://en.wikipedia.org/wiki/List_of_Billboard_Hot_100_number-one_singles_of_the_1970s\")"
   ]
  },
  {
   "cell_type": "code",
   "execution_count": 261,
   "metadata": {},
   "outputs": [
    {
     "data": {
      "text/plain": [
       "list"
      ]
     },
     "execution_count": 261,
     "metadata": {},
     "output_type": "execute_result"
    }
   ],
   "source": [
    "type(number_one)"
   ]
  },
  {
   "cell_type": "code",
   "execution_count": 262,
   "metadata": {},
   "outputs": [
    {
     "data": {
      "text/plain": [
       "7"
      ]
     },
     "execution_count": 262,
     "metadata": {},
     "output_type": "execute_result"
    }
   ],
   "source": [
    "len(number_one)"
   ]
  },
  {
   "cell_type": "code",
   "execution_count": 267,
   "metadata": {},
   "outputs": [],
   "source": [
    "singles=number_one[2]"
   ]
  },
  {
   "cell_type": "code",
   "execution_count": 271,
   "metadata": {},
   "outputs": [
    {
     "data": {
      "text/html": [
       "<div>\n",
       "<style scoped>\n",
       "    .dataframe tbody tr th:only-of-type {\n",
       "        vertical-align: middle;\n",
       "    }\n",
       "\n",
       "    .dataframe tbody tr th {\n",
       "        vertical-align: top;\n",
       "    }\n",
       "\n",
       "    .dataframe thead tr th {\n",
       "        text-align: left;\n",
       "    }\n",
       "</style>\n",
       "<table border=\"1\" class=\"dataframe\">\n",
       "  <thead>\n",
       "    <tr>\n",
       "      <th></th>\n",
       "      <th>#</th>\n",
       "      <th>Reached number one</th>\n",
       "      <th>Artist(s)</th>\n",
       "      <th>Single</th>\n",
       "      <th>Weeks atnumber one</th>\n",
       "      <th>Ref</th>\n",
       "    </tr>\n",
       "    <tr>\n",
       "      <th></th>\n",
       "      <th>1970</th>\n",
       "      <th>1970</th>\n",
       "      <th>1970</th>\n",
       "      <th>1970</th>\n",
       "      <th>1970</th>\n",
       "      <th>1970</th>\n",
       "    </tr>\n",
       "  </thead>\n",
       "  <tbody>\n",
       "    <tr>\n",
       "      <td>257</td>\n",
       "      <td>475</td>\n",
       "      <td>November 10, 1979</td>\n",
       "      <td>Eagles</td>\n",
       "      <td>\"Heartache Tonight\"</td>\n",
       "      <td>1</td>\n",
       "      <td>[1]</td>\n",
       "    </tr>\n",
       "    <tr>\n",
       "      <td>258</td>\n",
       "      <td>476</td>\n",
       "      <td>November 17, 1979</td>\n",
       "      <td>Commodores</td>\n",
       "      <td>\"Still\"</td>\n",
       "      <td>1</td>\n",
       "      <td>[1]</td>\n",
       "    </tr>\n",
       "    <tr>\n",
       "      <td>259</td>\n",
       "      <td>477</td>\n",
       "      <td>November 24, 1979</td>\n",
       "      <td>Barbra Streisand and Donna Summer</td>\n",
       "      <td>\"No More Tears (Enough Is Enough)\"</td>\n",
       "      <td>2</td>\n",
       "      <td>[1]</td>\n",
       "    </tr>\n",
       "    <tr>\n",
       "      <td>260</td>\n",
       "      <td>478</td>\n",
       "      <td>December 8, 1979</td>\n",
       "      <td>Styx</td>\n",
       "      <td>\"Babe\"</td>\n",
       "      <td>2</td>\n",
       "      <td>[1]</td>\n",
       "    </tr>\n",
       "    <tr>\n",
       "      <td>261</td>\n",
       "      <td>479</td>\n",
       "      <td>December 22, 1979</td>\n",
       "      <td>Rupert Holmes</td>\n",
       "      <td>\"Escape (The Piña Colada Song)\"</td>\n",
       "      <td>3</td>\n",
       "      <td>[1]</td>\n",
       "    </tr>\n",
       "  </tbody>\n",
       "</table>\n",
       "</div>"
      ],
      "text/plain": [
       "       # Reached number one                          Artist(s)  \\\n",
       "    1970               1970                               1970   \n",
       "257  475  November 10, 1979                             Eagles   \n",
       "258  476  November 17, 1979                         Commodores   \n",
       "259  477  November 24, 1979  Barbra Streisand and Donna Summer   \n",
       "260  478   December 8, 1979                               Styx   \n",
       "261  479  December 22, 1979                      Rupert Holmes   \n",
       "\n",
       "                                 Single Weeks atnumber one  Ref  \n",
       "                                   1970               1970 1970  \n",
       "257                 \"Heartache Tonight\"                  1  [1]  \n",
       "258                             \"Still\"                  1  [1]  \n",
       "259  \"No More Tears (Enough Is Enough)\"                  2  [1]  \n",
       "260                              \"Babe\"                  2  [1]  \n",
       "261     \"Escape (The Piña Colada Song)\"                  3  [1]  "
      ]
     },
     "execution_count": 271,
     "metadata": {},
     "output_type": "execute_result"
    }
   ],
   "source": [
    "singles.tail()"
   ]
  },
  {
   "cell_type": "code",
   "execution_count": 275,
   "metadata": {},
   "outputs": [],
   "source": [
    "singles.to_csv(\"../Output/NumberOnes.csv\")"
   ]
  },
  {
   "cell_type": "code",
   "execution_count": null,
   "metadata": {},
   "outputs": [],
   "source": []
  }
 ],
 "metadata": {
  "kernelspec": {
   "display_name": "Python 3",
   "language": "python",
   "name": "python3"
  },
  "language_info": {
   "codemirror_mode": {
    "name": "ipython",
    "version": 3
   },
   "file_extension": ".py",
   "mimetype": "text/x-python",
   "name": "python",
   "nbconvert_exporter": "python",
   "pygments_lexer": "ipython3",
   "version": "3.7.2"
  }
 },
 "nbformat": 4,
 "nbformat_minor": 2
}

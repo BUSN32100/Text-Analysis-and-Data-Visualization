{
 "cells": [
  {
   "cell_type": "markdown",
   "metadata": {},
   "source": [
    "<center><u><H1>Functions</H1></u></center>"
   ]
  },
  {
   "cell_type": "markdown",
   "metadata": {},
   "source": [
    "There are two types of functions, built-in and custom. Built-in functions have already been implemented and are ready to use by users. We have used some of them. `print`, `len`, `range`, are examples of a built-in functions in Python.\n",
    "In this part of the course I we are going to see custom functions; an algorith built by us. A function is like a mini-program within a program. \n",
    "\n",
    "In Python a function:\n",
    "- starts with a `def` statement\n",
    "- has a name followed by round brackets `()`\n",
    "- which is followed by a column `:`\n",
    "- has an indented block which is the body of the function. This code is executed when the function is called, not when the function is first defined.\n"
   ]
  },
  {
   "cell_type": "code",
   "execution_count": 1,
   "metadata": {},
   "outputs": [],
   "source": [
    "def yell(string):\n",
    "    yell_string=string.upper()\n",
    "    return yell_string"
   ]
  },
  {
   "cell_type": "markdown",
   "metadata": {},
   "source": [
    "We can call the function by executing the following:"
   ]
  },
  {
   "cell_type": "code",
   "execution_count": 3,
   "metadata": {},
   "outputs": [
    {
     "data": {
      "text/plain": [
       "'HELLO!'"
      ]
     },
     "execution_count": 3,
     "metadata": {},
     "output_type": "execute_result"
    }
   ],
   "source": [
    "yell(\"hello!\")"
   ]
  },
  {
   "cell_type": "markdown",
   "metadata": {},
   "source": [
    "### Challenge: Create a function that is named whisper and returns the string in lowercase letters."
   ]
  },
  {
   "cell_type": "markdown",
   "metadata": {},
   "source": []
  },
  {
   "cell_type": "code",
   "execution_count": null,
   "metadata": {},
   "outputs": [],
   "source": [
    "def potato_cost(quantity, price):\n",
    "    cost=quantity*price\n",
    "    return(cost)"
   ]
  }
 ],
 "metadata": {
  "kernelspec": {
   "display_name": "Python 3",
   "language": "python",
   "name": "python3"
  },
  "language_info": {
   "codemirror_mode": {
    "name": "ipython",
    "version": 3
   },
   "file_extension": ".py",
   "mimetype": "text/x-python",
   "name": "python",
   "nbconvert_exporter": "python",
   "pygments_lexer": "ipython3",
   "version": "3.7.2"
  }
 },
 "nbformat": 4,
 "nbformat_minor": 2
}
